{
 "cells": [
  {
   "cell_type": "markdown",
   "metadata": {},
   "source": [
    "# Optimization and Hyperparameters"
   ]
  },
  {
   "cell_type": "markdown",
   "metadata": {},
   "source": [
    "#### Setup "
   ]
  },
  {
   "cell_type": "code",
   "execution_count": 2,
   "metadata": {},
   "outputs": [],
   "source": [
    "import os; os.environ[\"ACCELERATE_DISABLE_RICH\"] = \"1\"\n",
    "import sys\n",
    "import torch as t\n",
    "from torch import Tensor, optim\n",
    "import torch.nn.functional as F\n",
    "from torchvision import datasets\n",
    "from torch.utils.data import DataLoader, Subset\n",
    "from typing import Callable, Iterable, Tuple, Optional\n",
    "from jaxtyping import Float\n",
    "from dataclasses import dataclass, replace\n",
    "from tqdm.notebook import tqdm\n",
    "from pathlib import Path\n",
    "import numpy as np\n",
    "from IPython.display import display, HTML\n",
    "\n",
    "# Make sure exercises are in the path\n",
    "chapter = r\"chapter0_fundamentals\"\n",
    "exercises_dir = Path(f\"{os.getcwd().split(chapter)[0]}/{chapter}/exercises\").resolve()\n",
    "section_dir = exercises_dir / \"part3_optimization\"\n",
    "if str(exercises_dir) not in sys.path: sys.path.append(str(exercises_dir))\n",
    "\n",
    "from plotly_utils import bar, imshow, plot_train_loss_and_test_accuracy_from_trainer\n",
    "from part2_cnns.solutions import IMAGENET_TRANSFORM, ResNet34\n",
    "from part2_cnns.solutions_bonus import get_resnet_for_feature_extraction\n",
    "from part3_optimization.utils import plot_fn, plot_fn_with_points\n",
    "import part3_optimization.tests as tests\n",
    "\n",
    "# device = t.device(\"cuda\" if t.cuda.is_available() else \"cpu\")\n",
    "device = t.device(\"mps\" if t.backends.mps.is_available() else \"cpu\")\n",
    "\n",
    "MAIN = __name__ == \"__main__\""
   ]
  },
  {
   "cell_type": "code",
   "execution_count": null,
   "metadata": {},
   "outputs": [],
   "source": []
  }
 ],
 "metadata": {
  "kernelspec": {
   "display_name": "arena",
   "language": "python",
   "name": "python3"
  },
  "language_info": {
   "codemirror_mode": {
    "name": "ipython",
    "version": 3
   },
   "file_extension": ".py",
   "mimetype": "text/x-python",
   "name": "python",
   "nbconvert_exporter": "python",
   "pygments_lexer": "ipython3",
   "version": "3.11.7"
  }
 },
 "nbformat": 4,
 "nbformat_minor": 2
}
