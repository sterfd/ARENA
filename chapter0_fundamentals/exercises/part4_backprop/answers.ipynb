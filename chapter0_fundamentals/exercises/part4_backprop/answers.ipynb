{
 "cells": [
  {
   "cell_type": "markdown",
   "metadata": {},
   "source": [
    "# Backpropagation"
   ]
  },
  {
   "cell_type": "markdown",
   "metadata": {},
   "source": [
    "#### Setup"
   ]
  },
  {
   "cell_type": "code",
   "execution_count": 1,
   "metadata": {},
   "outputs": [],
   "source": [
    "import os\n",
    "os.environ[\"KMP_DUPLICATE_LIB_OK\"] =\"TRUE\"\n",
    "import sys\n",
    "import re\n",
    "import time\n",
    "import torch as t\n",
    "import numpy as np\n",
    "from pathlib import Path\n",
    "from collections import defaultdict\n",
    "from dataclasses import dataclass\n",
    "from typing import Any, Callable, Iterator, Iterable, Optional, Union, Dict, List, Tuple\n",
    "from torch.utils.data import DataLoader\n",
    "from tqdm import tqdm\n",
    "\n",
    "Arr = np.ndarray\n",
    "grad_tracking_enabled = True\n",
    "\n",
    "# Make sure exercises are in the path\n",
    "chapter = r\"chapter0_fundamentals\"\n",
    "exercises_dir = Path(f\"{os.getcwd().split(chapter)[0]}/{chapter}/exercises\").resolve()\n",
    "section_dir = exercises_dir / \"part4_backprop\"\n",
    "if str(exercises_dir) not in sys.path: sys.path.append(str(exercises_dir))\n",
    "\n",
    "import part4_backprop.tests as tests\n",
    "from part4_backprop.utils import visualize, get_mnist\n",
    "from plotly_utils import line\n",
    "\n",
    "MAIN = __name__ == \"__main__\""
   ]
  },
  {
   "cell_type": "markdown",
   "metadata": {},
   "source": [
    "## Intro to Backprop"
   ]
  },
  {
   "cell_type": "markdown",
   "metadata": {},
   "source": [
    "### Exercise - implement log_back"
   ]
  },
  {
   "cell_type": "markdown",
   "metadata": {},
   "source": [
    "Difficulty: 🔴🔴⚪⚪⚪\n",
    "Importance: 🔵🔵🔵⚪⚪\n",
    "\n",
    "You should spend up to 5-10 minutes on this exercise."
   ]
  },
  {
   "cell_type": "code",
   "execution_count": 2,
   "metadata": {},
   "outputs": [
    {
     "name": "stdout",
     "output_type": "stream",
     "text": [
      "All tests in `test_log_back` passed!\n"
     ]
    }
   ],
   "source": [
    "def log_back(grad_out: Arr, out: Arr, x: Arr) -> Arr:\n",
    "    '''Backwards function for f(x) = log(x)\n",
    "\n",
    "    grad_out: Gradient of some loss wrt out\n",
    "    out: the output of np.log(x).\n",
    "    x: the input of np.log.\n",
    "\n",
    "    Return: gradient of the given loss wrt x\n",
    "    '''\n",
    "    return grad_out/x\n",
    "\n",
    "\n",
    "tests.test_log_back(log_back)"
   ]
  },
  {
   "cell_type": "markdown",
   "metadata": {},
   "source": [
    "### Exercise - implement unbroadcast"
   ]
  },
  {
   "cell_type": "markdown",
   "metadata": {},
   "source": [
    "Difficulty: 🔴🔴🔴⚪⚪\n",
    "Importance: 🔵🔵⚪⚪⚪\n",
    "\n",
    "You should spend up to 15-20 minutes on this exercise.\n",
    "\n",
    "This can be finnicky to implement, so you should be willing to read the solution and move on if you get stuck."
   ]
  },
  {
   "cell_type": "code",
   "execution_count": 41,
   "metadata": {},
   "outputs": [
    {
     "name": "stdout",
     "output_type": "stream",
     "text": [
      "All tests in `test_unbroadcast` passed!\n"
     ]
    }
   ],
   "source": [
    "def unbroadcast(broadcasted: Arr, original: Arr) -> Arr:\n",
    "    '''\n",
    "    Sum 'broadcasted' until it has the shape of 'original'.\n",
    "\n",
    "    broadcasted: An array that was formerly of the same shape of 'original' and was expanded by broadcasting rules.\n",
    "    x = array of 5 = [0 1 2 3 4], y = array of 2 [a b]\n",
    "    '''\n",
    "    # print(broadcasted.shape, original.shape)    #(5, 1, 2, 4, 3) and (2, 1, 3)\n",
    "    # print(len(broadcasted.shape), len(original.shape))  #5, 3\n",
    "    n_dims_to_sum = len(broadcasted.shape) - len(original.shape)        # 2\n",
    "    # so the 5 and 1  are broadcasted extra dimension, sum them all up, and the layer underneath will be shape (2,4,3)\n",
    "    broadcasted = broadcasted.sum(axis=tuple(range(n_dims_to_sum))) #now 2 4 3\n",
    "    dims_to_sum = tuple([\n",
    "        i for i, (o, b) in enumerate(zip(original.shape, broadcasted.shape))\n",
    "        if o == 1 and b > 1\n",
    "    ])\n",
    "    broadcasted = broadcasted.sum(axis=dims_to_sum, keepdims=True)\n",
    "\n",
    "    return broadcasted\n",
    "\n",
    "\n",
    "tests.test_unbroadcast(unbroadcast)"
   ]
  },
  {
   "cell_type": "markdown",
   "metadata": {},
   "source": [
    "### Exercise - implement multiply_back"
   ]
  },
  {
   "cell_type": "markdown",
   "metadata": {},
   "source": [
    "Difficulty: 🔴🔴🔴⚪⚪\n",
    "Importance: 🔵🔵⚪⚪⚪\n",
    "\n",
    "You should spend up to 10-15 minutes on these exercises."
   ]
  },
  {
   "cell_type": "code",
   "execution_count": 43,
   "metadata": {},
   "outputs": [
    {
     "name": "stdout",
     "output_type": "stream",
     "text": [
      "All tests in `test_multiply_back` passed!\n",
      "All tests in `test_multiply_back_float` passed!\n"
     ]
    }
   ],
   "source": [
    "def multiply_back0(grad_out: Arr, out: Arr, x: Arr, y: Union[Arr, float]) -> Arr:\n",
    "    '''Backwards function for x * y wrt argument 0 aka x.'''\n",
    "    if not isinstance(y, Arr):\n",
    "        y = np.array(y)\n",
    "    backward = grad_out * y\n",
    "    return unbroadcast(backward, x)\n",
    "    \n",
    "\n",
    "def multiply_back1(grad_out: Arr, out: Arr, x: Union[Arr, float], y: Arr) -> Arr:\n",
    "    '''Backwards function for x * y wrt argument 1 aka y.'''\n",
    "    if not isinstance(x, Arr):\n",
    "        x = np.array(x)\n",
    "    backward = grad_out * x\n",
    "    return unbroadcast(backward, y)\n",
    "\n",
    "\n",
    "\n",
    "tests.test_multiply_back(multiply_back0, multiply_back1)\n",
    "tests.test_multiply_back_float(multiply_back0, multiply_back1)"
   ]
  },
  {
   "cell_type": "markdown",
   "metadata": {},
   "source": [
    "### Exercise - implement forward_and_back"
   ]
  },
  {
   "cell_type": "markdown",
   "metadata": {},
   "source": [
    "Difficulty: 🔴🔴🔴⚪⚪\n",
    "Importance: 🔵🔵🔵🔵⚪\n",
    "\n",
    "You should spend up to 15-20 minutes on these exercises.\n",
    "\n",
    "This function is very useful for getting a hands-on sense of the backpropagation algorithm."
   ]
  },
  {
   "cell_type": "code",
   "execution_count": 48,
   "metadata": {},
   "outputs": [
    {
     "name": "stdout",
     "output_type": "stream",
     "text": [
      "All tests in `test_forward_and_back` passed!\n"
     ]
    }
   ],
   "source": [
    "def forward_and_back(a: Arr, b: Arr, c: Arr) -> Tuple[Arr, Arr, Arr]:\n",
    "    '''\n",
    "    Calculates the output of the computational graph above (g), then backpropogates the gradients and returns dg/da, dg/db, and dg/dc\n",
    "    '''\n",
    "    d = a * b\n",
    "    e = np.log(c)\n",
    "    f = d * e\n",
    "    g = np.log(f)\n",
    "\n",
    "    g_grad = np.ones_like(g)\n",
    "    dg_df = log_back(g_grad, g, f)\n",
    "    dg_dd = multiply_back0(dg_df, f, d, e)\n",
    "    dg_de = multiply_back1(dg_df, f, d, e)\n",
    "\n",
    "    dg_da = multiply_back0(dg_dd, d, a, b)\n",
    "    dg_db = multiply_back1(dg_dd, d, a, b)\n",
    "    dg_dc = log_back(dg_de, e, c)\n",
    "    return (dg_da, dg_db, dg_dc)\n",
    "\n",
    "\n",
    "tests.test_forward_and_back(forward_and_back)"
   ]
  },
  {
   "cell_type": "markdown",
   "metadata": {},
   "source": [
    "## Autograd"
   ]
  },
  {
   "cell_type": "code",
   "execution_count": 49,
   "metadata": {},
   "outputs": [],
   "source": [
    "@dataclass(frozen=True)\n",
    "class Recipe:\n",
    "    '''Extra information necessary to run backpropagation. You don't need to modify this.'''\n",
    "\n",
    "    func: Callable\n",
    "    \"The 'inner' NumPy function that does the actual forward computation.\"\n",
    "    \"Note, we call it 'inner' to distinguish it from the wrapper we'll create for it later on.\"\n",
    "\n",
    "    args: tuple\n",
    "    \"The input arguments passed to func.\"\n",
    "    \"For instance, if func was np.sum then args would be a length-1 tuple containing the tensor to be summed.\"\n",
    "\n",
    "    kwargs: Dict[str, Any]\n",
    "    \"Keyword arguments passed to func.\"\n",
    "    \"For instance, if func was np.sum then kwargs might contain 'dim' and 'keepdims'.\"\n",
    "\n",
    "    parents: Dict[int, \"Tensor\"]\n",
    "    \"Map from positional argument index to the Tensor at that position, in order to be able to pass gradients back along the computational graph.\""
   ]
  },
  {
   "cell_type": "markdown",
   "metadata": {},
   "source": [
    "### Exercise - implement BackwardFuncLookup"
   ]
  },
  {
   "cell_type": "markdown",
   "metadata": {},
   "source": [
    "Difficulty: 🔴🔴⚪⚪⚪\n",
    "Importance: 🔵🔵🔵⚪⚪\n",
    "\n",
    "You should spend up to 10-15 minutes on these exercises.\n",
    "\n",
    "These exercises should be very short, once you understand what is being asked."
   ]
  },
  {
   "cell_type": "code",
   "execution_count": 50,
   "metadata": {},
   "outputs": [
    {
     "name": "stdout",
     "output_type": "stream",
     "text": [
      "Tests passed - BackwardFuncLookup class is working as expected!\n"
     ]
    }
   ],
   "source": [
    "class BackwardFuncLookup:\n",
    "    def __init__(self) -> None:\n",
    "        self.back_funcs: defaultdict[Callable, dict[int, Callable]] = defaultdict(dict)\n",
    "\n",
    "    def add_back_func(self, forward_fn: Callable, arg_position: int, back_fn: Callable) -> None:\n",
    "        self.back_funcs[forward_fn][arg_position] = back_fn\n",
    "\n",
    "    def get_back_func(self, forward_fn: Callable, arg_position: int) -> Callable:\n",
    "        return self.back_funcs[forward_fn][arg_position]\n",
    "\n",
    "\n",
    "BACK_FUNCS = BackwardFuncLookup()\n",
    "BACK_FUNCS.add_back_func(np.log, 0, log_back)\n",
    "BACK_FUNCS.add_back_func(np.multiply, 0, multiply_back0)\n",
    "BACK_FUNCS.add_back_func(np.multiply, 1, multiply_back1)\n",
    "\n",
    "assert BACK_FUNCS.get_back_func(np.log, 0) == log_back\n",
    "assert BACK_FUNCS.get_back_func(np.multiply, 0) == multiply_back0\n",
    "assert BACK_FUNCS.get_back_func(np.multiply, 1) == multiply_back1\n",
    "\n",
    "print(\"Tests passed - BackwardFuncLookup class is working as expected!\")"
   ]
  },
  {
   "cell_type": "markdown",
   "metadata": {},
   "source": [
    "#### Hide this... implementation of Tensor class:"
   ]
  },
  {
   "cell_type": "code",
   "execution_count": 51,
   "metadata": {},
   "outputs": [],
   "source": [
    "Arr = np.ndarray\n",
    "\n",
    "class Tensor:\n",
    "    '''\n",
    "    A drop-in replacement for torch.Tensor supporting a subset of features.\n",
    "    '''\n",
    "\n",
    "    array: Arr\n",
    "    \"The underlying array. Can be shared between multiple Tensors.\"\n",
    "    requires_grad: bool\n",
    "    \"If True, calling functions or methods on this tensor will track relevant data for backprop.\"\n",
    "    grad: Optional[\"Tensor\"]\n",
    "    \"Backpropagation will accumulate gradients into this field.\"\n",
    "    recipe: Optional[Recipe]\n",
    "    \"Extra information necessary to run backpropagation.\"\n",
    "\n",
    "    def __init__(self, array: Union[Arr, list], requires_grad=False):\n",
    "        self.array = array if isinstance(array, Arr) else np.array(array)\n",
    "        if self.array.dtype == np.float64:\n",
    "            self.array = self.array.astype(np.float32)\n",
    "        self.requires_grad = requires_grad\n",
    "        self.grad = None\n",
    "        self.recipe = None\n",
    "        \"If not None, this tensor's array was created via recipe.func(*recipe.args, **recipe.kwargs).\"\n",
    "\n",
    "    def __neg__(self) -> \"Tensor\":\n",
    "        return negative(self)\n",
    "\n",
    "    def __add__(self, other) -> \"Tensor\":\n",
    "        return add(self, other)\n",
    "\n",
    "    def __radd__(self, other) -> \"Tensor\":\n",
    "        return add(other, self)\n",
    "\n",
    "    def __sub__(self, other) -> \"Tensor\":\n",
    "        return subtract(self, other)\n",
    "\n",
    "    def __rsub__(self, other):\n",
    "        return subtract(other, self)\n",
    "\n",
    "    def __mul__(self, other) -> \"Tensor\":\n",
    "        return multiply(self, other)\n",
    "\n",
    "    def __rmul__(self, other) -> \"Tensor\":\n",
    "        return multiply(other, self)\n",
    "\n",
    "    def __truediv__(self, other) -> \"Tensor\":\n",
    "        return true_divide(self, other)\n",
    "\n",
    "    def __rtruediv__(self, other) -> \"Tensor\":\n",
    "        return true_divide(other, self)\n",
    "\n",
    "    def __matmul__(self, other) -> \"Tensor\":\n",
    "        return matmul(self, other)\n",
    "\n",
    "    def __rmatmul__(self, other) -> \"Tensor\":\n",
    "        return matmul(other, self)\n",
    "\n",
    "    def __eq__(self, other) -> \"Tensor\":\n",
    "        return eq(self, other)\n",
    "\n",
    "    def __repr__(self) -> str:\n",
    "        return f\"Tensor({repr(self.array)}, requires_grad={self.requires_grad})\"\n",
    "\n",
    "    def __len__(self) -> int:\n",
    "        if self.array.ndim == 0:\n",
    "            raise TypeError\n",
    "        return self.array.shape[0]\n",
    "\n",
    "    def __hash__(self) -> int:\n",
    "        return id(self)\n",
    "\n",
    "    def __getitem__(self, index) -> \"Tensor\":\n",
    "        return getitem(self, index)\n",
    "\n",
    "    def add_(self, other: \"Tensor\", alpha: float = 1.0) -> \"Tensor\":\n",
    "        add_(self, other, alpha=alpha)\n",
    "        return self\n",
    "\n",
    "    @property\n",
    "    def T(self) -> \"Tensor\":\n",
    "        return permute(self, axes=(-1, -2))\n",
    "\n",
    "    def item(self):\n",
    "        return self.array.item()\n",
    "\n",
    "    def sum(self, dim=None, keepdim=False):\n",
    "        return sum(self, dim=dim, keepdim=keepdim)\n",
    "\n",
    "    def log(self):\n",
    "        return log(self)\n",
    "\n",
    "    def exp(self):\n",
    "        return exp(self)\n",
    "\n",
    "    def reshape(self, new_shape):\n",
    "        return reshape(self, new_shape)\n",
    "\n",
    "    def expand(self, new_shape):\n",
    "        return expand(self, new_shape)\n",
    "\n",
    "    def permute(self, dims):\n",
    "        return permute(self, dims)\n",
    "\n",
    "    def maximum(self, other):\n",
    "        return maximum(self, other)\n",
    "\n",
    "    def relu(self):\n",
    "        return relu(self)\n",
    "\n",
    "    def argmax(self, dim=None, keepdim=False):\n",
    "        return argmax(self, dim=dim, keepdim=keepdim)\n",
    "\n",
    "    def uniform_(self, low: float, high: float) -> \"Tensor\":\n",
    "        self.array[:] = np.random.uniform(low, high, self.array.shape)\n",
    "        return self\n",
    "\n",
    "    def backward(self, end_grad: Union[Arr, \"Tensor\", None] = None) -> None:\n",
    "        if isinstance(end_grad, Arr):\n",
    "            end_grad = Tensor(end_grad)\n",
    "        return backprop(self, end_grad)\n",
    "\n",
    "    def size(self, dim: Optional[int] = None):\n",
    "        if dim is None:\n",
    "            return self.shape\n",
    "        return self.shape[dim]\n",
    "\n",
    "    @property\n",
    "    def shape(self):\n",
    "        return self.array.shape\n",
    "\n",
    "    @property\n",
    "    def ndim(self):\n",
    "        return self.array.ndim\n",
    "\n",
    "    @property\n",
    "    def is_leaf(self):\n",
    "        '''Same as https://pytorch.org/docs/stable/generated/torch.Tensor.is_leaf.html'''\n",
    "        if self.requires_grad and self.recipe and self.recipe.parents:\n",
    "            return False\n",
    "        return True\n",
    "\n",
    "    def __bool__(self):\n",
    "        if np.array(self.shape).prod() != 1:\n",
    "            raise RuntimeError(\"bool value of Tensor with more than one value is ambiguous\")\n",
    "        return bool(self.item())\n",
    "\n",
    "def empty(*shape: int) -> Tensor:\n",
    "    '''Like torch.empty.'''\n",
    "    return Tensor(np.empty(shape))\n",
    "\n",
    "def zeros(*shape: int) -> Tensor:\n",
    "    '''Like torch.zeros.'''\n",
    "    return Tensor(np.zeros(shape))\n",
    "\n",
    "def arange(start: int, end: int, step=1) -> Tensor:\n",
    "    '''Like torch.arange(start, end).'''\n",
    "    return Tensor(np.arange(start, end, step=step))\n",
    "\n",
    "def tensor(array: Arr, requires_grad=False) -> Tensor:\n",
    "    '''Like torch.tensor.'''\n",
    "    return Tensor(array, requires_grad=requires_grad)"
   ]
  },
  {
   "cell_type": "markdown",
   "metadata": {},
   "source": [
    "### Forward Pass - Building the Comp graph"
   ]
  },
  {
   "cell_type": "markdown",
   "metadata": {},
   "source": [
    "### Exercise - implement log_forward"
   ]
  },
  {
   "cell_type": "markdown",
   "metadata": {},
   "source": [
    "Difficulty: 🔴🔴🔴⚪⚪\n",
    "Importance: 🔵🔵🔵⚪⚪\n",
    "\n",
    "You should spend up to 15-20 minutes on this exercise."
   ]
  },
  {
   "cell_type": "code",
   "execution_count": 58,
   "metadata": {},
   "outputs": [
    {
     "name": "stdout",
     "output_type": "stream",
     "text": [
      "All tests in `test_log` passed!\n",
      "All tests in `test_log_no_grad` passed!\n"
     ]
    }
   ],
   "source": [
    "def log_forward(x: Tensor) -> Tensor:\n",
    "    '''Performs np.log on a Tensor object.'''\n",
    "    array = np.log(x.array)\n",
    "\n",
    "    requires_grad = grad_tracking_enabled and (x.requires_grad or (x.recipe is not None))\n",
    "\n",
    "    out = Tensor(array, requires_grad)\n",
    "    \n",
    "    if requires_grad:\n",
    "        out.recipe = Recipe(func=np.log, args=(x.array,), kwargs={}, parents={0:x})\n",
    "    else:\n",
    "        out.recipe = None\n",
    "    \n",
    "    return out\n",
    "\n",
    "log = log_forward\n",
    "tests.test_log(Tensor, log_forward)\n",
    "tests.test_log_no_grad(Tensor, log_forward)\n",
    "a = Tensor([1], requires_grad=True)\n",
    "grad_tracking_enabled = False\n",
    "b = log_forward(a)\n",
    "grad_tracking_enabled = True\n",
    "assert not b.requires_grad, \"should not require grad if grad tracking globally disabled\"\n",
    "assert b.recipe is None, \"should not create recipe if grad tracking globally disabled\""
   ]
  },
  {
   "cell_type": "markdown",
   "metadata": {},
   "source": [
    "### Exercise - implement multiply_forward"
   ]
  },
  {
   "cell_type": "markdown",
   "metadata": {},
   "source": [
    "Difficulty: 🔴🔴🔴🔴⚪\n",
    "Importance: 🔵🔵🔵⚪⚪\n",
    "\n",
    "You should spend up to 15-20 minutes on this exercise."
   ]
  },
  {
   "cell_type": "code",
   "execution_count": 70,
   "metadata": {},
   "outputs": [
    {
     "name": "stdout",
     "output_type": "stream",
     "text": [
      "All tests in `test_multiply` passed!\n",
      "All tests in `test_multiply_no_grad` passed!\n",
      "All tests in `test_multiply_float` passed!\n"
     ]
    }
   ],
   "source": [
    "def multiply_forward(a: Union[Tensor, int], b: Union[Tensor, int]) -> Tensor:\n",
    "    '''Performs np.multiply on a Tensor object.'''\n",
    "    assert isinstance(a, Tensor) or isinstance(b, Tensor)\n",
    "    \n",
    "    arg_a = a.array if isinstance(a, Tensor) else a\n",
    "    arg_b = b.array if isinstance(b, Tensor) else b\n",
    "    array = arg_a * arg_b\n",
    "\n",
    "    requires_grad = grad_tracking_enabled and any([\n",
    "        (isinstance(x, Tensor) and (x.requires_grad or x.recipe is not None)) for x in (a, b)\n",
    "    ])    \n",
    "\n",
    "    out = Tensor(array, requires_grad)\n",
    "\n",
    "    if requires_grad:\n",
    "        parents = {idx: arr for idx, arr in enumerate([a, b]) if isinstance(arr, Tensor)}\n",
    "        out.recipe = Recipe(func=np.multiply, args=(arg_a, arg_b), kwargs={}, parents=parents)\n",
    "    \n",
    "\n",
    "    return out\n",
    "\n",
    "\n",
    "multiply = multiply_forward\n",
    "tests.test_multiply(Tensor, multiply_forward)\n",
    "tests.test_multiply_no_grad(Tensor, multiply_forward)\n",
    "tests.test_multiply_float(Tensor, multiply_forward)\n",
    "a = Tensor([2], requires_grad=True)\n",
    "b = Tensor([3], requires_grad=True)\n",
    "grad_tracking_enabled = False\n",
    "b = multiply_forward(a, b)\n",
    "grad_tracking_enabled = True\n",
    "assert not b.requires_grad, \"should not require grad if grad tracking globally disabled\"\n",
    "assert b.recipe is None, \"should not create recipe if grad tracking globally disabled\""
   ]
  },
  {
   "cell_type": "markdown",
   "metadata": {},
   "source": [
    "### Exercise - wrap_forward_fun"
   ]
  },
  {
   "cell_type": "markdown",
   "metadata": {},
   "source": [
    "Difficulty: 🔴🔴🔴🔴⚪\n",
    "Importance: 🔵🔵🔵⚪⚪\n",
    "\n",
    "You should spend up to 20-25 minutes on this exercise.\n",
    "\n",
    "This exercise is conceptually important, but might be a bit difficult if it isn't clear what the question is asking for."
   ]
  },
  {
   "cell_type": "code",
   "execution_count": 72,
   "metadata": {},
   "outputs": [
    {
     "name": "stdout",
     "output_type": "stream",
     "text": [
      "All tests in `test_log` passed!\n",
      "All tests in `test_log_no_grad` passed!\n",
      "All tests in `test_multiply` passed!\n",
      "All tests in `test_multiply_no_grad` passed!\n",
      "All tests in `test_multiply_float` passed!\n",
      "All tests in `test_sum` passed!\n"
     ]
    }
   ],
   "source": [
    "def wrap_forward_fn(numpy_func: Callable, is_differentiable=True) -> Callable:\n",
    "    '''\n",
    "    numpy_func: Callable\n",
    "        takes any number of positional arguments, some of which may be NumPy arrays, and \n",
    "        any number of keyword arguments which we aren't allowing to be NumPy arrays at \n",
    "        present. It returns a single NumPy array.\n",
    "\n",
    "    is_differentiable: \n",
    "        if True, numpy_func is differentiable with respect to some input argument, so we \n",
    "        may need to track information in a Recipe. If False, we definitely don't need to\n",
    "        track information.\n",
    "\n",
    "    Return: Callable\n",
    "        It has the same signature as numpy_func, except wherever there was a NumPy array, \n",
    "        this has a Tensor instead.\n",
    "    '''\n",
    "\n",
    "    def tensor_func(*args: Any, **kwargs: Any) -> Tensor:\n",
    "        arg_arrays = tuple([(arg.array if isinstance(arg, Tensor) else arg) for arg in args])\n",
    "        out_arr = numpy_func(*arg_arrays, **kwargs)\n",
    "        requires_grad = grad_tracking_enabled and is_differentiable and any([\n",
    "            (isinstance(a, Tensor) and (a.requires_grad or a.recipe is not None)) for a in args\n",
    "        ])\n",
    "        out = Tensor(out_arr, requires_grad)\n",
    "\n",
    "        if requires_grad:\n",
    "            parents = {idx: a for idx, a in enumerate(args) if isinstance(a, Tensor)}\n",
    "            out.recipe = Recipe(numpy_func, arg_arrays, kwargs, parents) \n",
    "        return out\n",
    "\n",
    "    return tensor_func\n",
    "\n",
    "\n",
    "def _sum(x: Arr, dim=None, keepdim=False) -> Arr:\n",
    "    # need to be careful with sum, because kwargs have different names in torch and numpy\n",
    "    return np.sum(x, axis=dim, keepdims=keepdim)\n",
    "\n",
    "\n",
    "log = wrap_forward_fn(np.log)\n",
    "multiply = wrap_forward_fn(np.multiply)\n",
    "eq = wrap_forward_fn(np.equal, is_differentiable=False)\n",
    "sum = wrap_forward_fn(_sum)\n",
    "\n",
    "tests.test_log(Tensor, log)\n",
    "tests.test_log_no_grad(Tensor, log)\n",
    "tests.test_multiply(Tensor, multiply)\n",
    "tests.test_multiply_no_grad(Tensor, multiply)\n",
    "tests.test_multiply_float(Tensor, multiply)\n",
    "tests.test_sum(Tensor)"
   ]
  },
  {
   "cell_type": "markdown",
   "metadata": {},
   "source": [
    "### Exercise - implement top_sort"
   ]
  },
  {
   "cell_type": "markdown",
   "metadata": {},
   "source": [
    "Difficulty: 🔴🔴🔴🔴⚪\n",
    "Importance: 🔵⚪⚪⚪⚪\n",
    "\n",
    "You should spend up to 20-25 minutes on this exercise.\n",
    "\n",
    "Note, it's completely fine to skip this problem if you're not very interested in it. This is more of a fun LeetCode-style puzzle, and writing a solution for this isn't crucial for the overall experience of these exercises."
   ]
  },
  {
   "cell_type": "code",
   "execution_count": 87,
   "metadata": {},
   "outputs": [
    {
     "name": "stdout",
     "output_type": "stream",
     "text": [
      "All tests in `test_topological_sort_linked_list` passed!\n",
      "All tests in `test_topological_sort_branching` passed!\n",
      "All tests in `test_topological_sort_rejoining` passed!\n",
      "All tests in `test_topological_sort_cyclic` passed!\n"
     ]
    }
   ],
   "source": [
    "class Node:\n",
    "    def __init__(self, *children):\n",
    "        self.children = list(children)\n",
    "\n",
    "\n",
    "def get_children(node: Node) -> List[Node]:\n",
    "    return node.children\n",
    "\n",
    "\n",
    "def topological_sort(node: Node, get_children: Callable) -> List[Node]:\n",
    "    '''\n",
    "    Return a list of node's descendants in reverse topological order from future to past (i.e. `node` should be last).\n",
    "\n",
    "    Should raise an error if the graph with `node` as root is not in fact acyclic.\n",
    "    '''\n",
    "    visited = set()\n",
    "    descendants = []\n",
    "    temp = set()\n",
    "    def visit(node):\n",
    "        if node in visited:\n",
    "            return\n",
    "        if node in temp:\n",
    "            raise ValueError('wtf')\n",
    "        temp.add(node)\n",
    "\n",
    "        for child in get_children(node):\n",
    "            visit(child)\n",
    "        \n",
    "        temp.remove(node)\n",
    "        visited.add(node)\n",
    "        descendants.append(node)\n",
    "\n",
    "    visit(node)\n",
    "    return descendants\n",
    "\n",
    "\n",
    "\n",
    "tests.test_topological_sort_linked_list(topological_sort)\n",
    "tests.test_topological_sort_branching(topological_sort)\n",
    "tests.test_topological_sort_rejoining(topological_sort)\n",
    "tests.test_topological_sort_cyclic(topological_sort)"
   ]
  },
  {
   "cell_type": "markdown",
   "metadata": {},
   "source": [
    "### Build comp graph"
   ]
  },
  {
   "cell_type": "code",
   "execution_count": 94,
   "metadata": {},
   "outputs": [
    {
     "name": "stdout",
     "output_type": "stream",
     "text": [
      "['a', 'b', 'd', 'c', 'e', 'f', 'g']\n"
     ]
    }
   ],
   "source": [
    "def sorted_computational_graph(tensor: Tensor) -> List[Tensor]:\n",
    "    '''\n",
    "    For a given tensor, return a list of Tensors that make up the nodes of the given Tensor's computational graph, \n",
    "    in reverse topological order (i.e. `tensor` should be first).\n",
    "    '''\n",
    "    def get_parents(node):\n",
    "        return [] if node.recipe is None else list(node.recipe.parents.values())\n",
    "    \n",
    "    return topological_sort(tensor, get_parents)\n",
    "    \n",
    "\n",
    "\n",
    "a = Tensor([1], requires_grad=True)\n",
    "b = Tensor([2], requires_grad=True)\n",
    "c = Tensor([3], requires_grad=True)\n",
    "d = a * b\n",
    "e = c.log()\n",
    "f = d * e\n",
    "g = f.log()\n",
    "name_lookup = {a: \"a\", b: \"b\", c: \"c\", d: \"d\", e: \"e\", f: \"f\", g: \"g\"}\n",
    "\n",
    "print([name_lookup[t] for t in sorted_computational_graph(g)])"
   ]
  },
  {
   "cell_type": "markdown",
   "metadata": {},
   "source": [
    "### Exercise - implement backprop"
   ]
  },
  {
   "cell_type": "markdown",
   "metadata": {},
   "source": [
    "Difficulty: 🔴🔴🔴🔴🔴\n",
    "Importance: 🔵🔵🔵🔵🔵\n",
    "\n",
    "You should spend up to 30-40 minutes on this exercise.\n",
    "\n",
    "This exercise is the most conceptually important today. You should be willing to spend around 30 minutes on it. We've provided several dropdowns to help you."
   ]
  },
  {
   "cell_type": "code",
   "execution_count": null,
   "metadata": {},
   "outputs": [],
   "source": [
    "def backprop(end_node: Tensor, end_grad: Optional[Tensor] = None) -> None:\n",
    "    '''Accumulates gradients in the grad field of each leaf node.\n",
    "\n",
    "    tensor.backward() is equivalent to backprop(tensor).\n",
    "\n",
    "    end_node: \n",
    "        The rightmost node in the computation graph. \n",
    "        If it contains more than one element, end_grad must be provided.\n",
    "    end_grad: \n",
    "        A tensor of the same shape as end_node. \n",
    "        Set to 1 if not specified and end_node has only one element.\n",
    "    '''\n",
    "    def set_grad(node, out, out_grad, back_func, parents):\n",
    "        node.grad = back_func(out=out, out_grad=out_grad, *parents)\n",
    "\n",
    "    \n",
    "    if end_grad is None and len(end_node.shape) == 1:\n",
    "        end_grad = t.ones_like(tensor)\n",
    "\n",
    "    grad_dict = {end_node: end_grad}\n",
    "\n",
    "    sorted_graph = topological_sort(end_node)\n",
    "\n",
    "    for node in sorted_graph:\n",
    "\n",
    "        \n",
    "        for parents in node.recipe.parents.values():\n",
    "            if not parents.requires_grad:\n",
    "                continue\n",
    "            back_func = BACK_FUNCS.get_back_func(node.recipe.func, node.recipe.args.index(parents))\n",
    "    \n",
    "\n",
    "\n",
    "    # go through each node in the graph, calculate the grad\n",
    "\n",
    "\n",
    "tests.test_backprop(Tensor)\n",
    "tests.test_backprop_branching(Tensor)\n",
    "tests.test_backprop_requires_grad_false(Tensor)\n",
    "tests.test_backprop_float_arg(Tensor)\n",
    "tests.test_backprop_shared_parent(Tensor)"
   ]
  }
 ],
 "metadata": {
  "kernelspec": {
   "display_name": "arena",
   "language": "python",
   "name": "python3"
  },
  "language_info": {
   "codemirror_mode": {
    "name": "ipython",
    "version": 3
   },
   "file_extension": ".py",
   "mimetype": "text/x-python",
   "name": "python",
   "nbconvert_exporter": "python",
   "pygments_lexer": "ipython3",
   "version": "3.11.7"
  }
 },
 "nbformat": 4,
 "nbformat_minor": 2
}
