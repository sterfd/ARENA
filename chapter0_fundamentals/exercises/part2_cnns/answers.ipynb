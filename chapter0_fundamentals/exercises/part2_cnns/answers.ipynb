{
 "cells": [
  {
   "cell_type": "code",
   "execution_count": 10,
   "metadata": {},
   "outputs": [],
   "source": [
    "import os\n",
    "import sys\n",
    "import numpy as np\n",
    "import einops\n",
    "from typing import Union, Optional, Tuple, List, Dict\n",
    "import torch as t\n",
    "from torch import Tensor\n",
    "import torch.nn as nn\n",
    "import torch.nn.functional as F\n",
    "from jaxtyping import Float, Int\n",
    "import functools\n",
    "from pathlib import Path\n",
    "from torchvision import datasets, transforms, models\n",
    "from torch.utils.data import DataLoader, Subset\n",
    "from tqdm.notebook import tqdm\n",
    "from dataclasses import dataclass\n",
    "from PIL import Image\n",
    "import json\n",
    "\n",
    "# Make sure exercises are in the path\n",
    "chapter = r\"chapter0_fundamentals\"\n",
    "exercises_dir = Path(f\"{os.getcwd().split(chapter)[0]}/{chapter}/exercises\").resolve()\n",
    "section_dir = exercises_dir / \"part2_cnns\"\n",
    "if str(exercises_dir) not in sys.path: sys.path.append(str(exercises_dir))\n",
    "\n",
    "from plotly_utils import imshow, line, bar\n",
    "import part2_cnns.tests as tests\n",
    "from part2_cnns.utils import print_param_count\n",
    "\n",
    "MAIN = __name__ == \"__main__\"\n",
    "\n",
    "# device = t.device(\"cuda\" if t.cuda.is_available() else \"cpu\")\n",
    "device = t.device(\"mps\" if t.backends.mps.is_available() else \"cpu\")"
   ]
  },
  {
   "cell_type": "markdown",
   "metadata": {},
   "source": [
    "## Making your own Modules"
   ]
  },
  {
   "cell_type": "markdown",
   "metadata": {},
   "source": [
    "### Exercise - Implement ReLu"
   ]
  },
  {
   "cell_type": "markdown",
   "metadata": {},
   "source": [
    "Difficulty: 🔴🔴⚪⚪⚪\n",
    "Importance: 🔵🔵🔵⚪⚪\n",
    "\n",
    "You should spend up to ~10 minutes on this exercise."
   ]
  },
  {
   "cell_type": "code",
   "execution_count": 11,
   "metadata": {},
   "outputs": [
    {
     "name": "stdout",
     "output_type": "stream",
     "text": [
      "All tests in `test_relu` passed!\n"
     ]
    }
   ],
   "source": [
    "class ReLU(nn.Module):\n",
    "    def forward(self, x: t.Tensor) -> t.Tensor:\n",
    "        x[x < 0] = 0\n",
    "        return x\n",
    "\n",
    "\n",
    "tests.test_relu(ReLU)"
   ]
  },
  {
   "cell_type": "markdown",
   "metadata": {},
   "source": [
    "### Exercise - implement Linear"
   ]
  },
  {
   "cell_type": "code",
   "execution_count": 28,
   "metadata": {},
   "outputs": [
    {
     "name": "stdout",
     "output_type": "stream",
     "text": [
      "All tests in `test_linear_forward` passed!\n",
      "All tests in `test_linear_parameters` passed!\n",
      "All tests in `test_linear_no_bias` passed!\n"
     ]
    }
   ],
   "source": [
    "class Linear(nn.Module):\n",
    "    def __init__(self, in_features: int, out_features: int, bias=True):\n",
    "        '''\n",
    "        A simple linear (technically, affine) transformation.\n",
    "\n",
    "        The fields should be named `weight` and `bias` for compatibility with PyTorch.\n",
    "        If `bias` is False, set `self.bias` to None.\n",
    "        '''\n",
    "        super().__init__()\n",
    "        self.weight = nn.Parameter(t.zeros(out_features, in_features).uniform_(-1/(in_features)**0.5, 1/(in_features)**0.5))\n",
    "        self.bias = nn.Parameter(t.zeros(out_features).uniform_(-1/(in_features)**0.5, 1/(in_features)**0.5)) if bias else None\n",
    "\n",
    "    def forward(self, x: t.Tensor) -> t.Tensor:\n",
    "        '''\n",
    "        x: shape (*, in_features)\n",
    "        Return: shape (*, out_features)\n",
    "        '''\n",
    "        wx = einops.einsum(self.weight, x, 'out_f in_f, b in_f -> b out_f')\n",
    "        if self.bias is None:\n",
    "            return wx \n",
    "        return wx + self.bias\n",
    "\n",
    "    def extra_repr(self) -> str:\n",
    "        return f\"in_features={self.in_features}, out_features={self.out_features}, bias={self.bias is not None}\"\n",
    "\n",
    "\n",
    "tests.test_linear_forward(Linear)\n",
    "tests.test_linear_parameters(Linear)\n",
    "tests.test_linear_no_bias(Linear)"
   ]
  },
  {
   "cell_type": "markdown",
   "metadata": {},
   "source": [
    "### Exercise - Implement flatten"
   ]
  },
  {
   "cell_type": "markdown",
   "metadata": {},
   "source": [
    "Difficulty: 🔴🔴🔴🔴⚪\n",
    "Importance: 🔵🔵🔵⚪⚪\n",
    "\n",
    "You should spend up to 10-15 minutes on this exercise."
   ]
  },
  {
   "cell_type": "code",
   "execution_count": 52,
   "metadata": {},
   "outputs": [
    {
     "name": "stdout",
     "output_type": "stream",
     "text": [
      "All tests in `test_flatten` passed!\n"
     ]
    }
   ],
   "source": [
    "class Flatten(nn.Module):\n",
    "    def __init__(self, start_dim: int = 1, end_dim: int = -1) -> None:\n",
    "        super().__init__()\n",
    "        self.start = start_dim\n",
    "        self.end = end_dim\n",
    "\n",
    "    def forward(self, input: t.Tensor) -> t.Tensor:\n",
    "        '''\n",
    "        Flatten out dimensions from start_dim to end_dim, inclusive of both.\n",
    "        '''\n",
    "        if self.end == -1:\n",
    "            flattened_dim = t.prod(t.tensor(input.shape[self.start:]))\n",
    "            return t.reshape(input, input.shape[:self.start] + (flattened_dim.item(),))\n",
    "        else:\n",
    "            flattened_dim = t.prod(t.tensor(input.shape[self.start:self.end+1]))\n",
    "            return t.reshape(input, input.shape[:self.start] + (flattened_dim,) + input.shape[self.end+1:])\n",
    "\n",
    "    def extra_repr(self) -> str:\n",
    "        return \", \".join([f\"{key}={getattr(self, key)}\" for key in [\"start_dim\", \"end_dim\"]])\n",
    "\n",
    "\n",
    "tests.test_flatten(Flatten)"
   ]
  },
  {
   "cell_type": "markdown",
   "metadata": {},
   "source": [
    "### Exercise - implement the simple MLP"
   ]
  },
  {
   "cell_type": "markdown",
   "metadata": {},
   "source": [
    "Difficulty: 🔴🔴🔴⚪⚪\n",
    "Importance: 🔵🔵🔵🔵⚪\n",
    "\n",
    "You should spend up to ~20 minutes on this exercise."
   ]
  },
  {
   "cell_type": "code",
   "execution_count": 60,
   "metadata": {},
   "outputs": [
    {
     "name": "stdout",
     "output_type": "stream",
     "text": [
      "All tests in `test_mlp` passed!\n"
     ]
    }
   ],
   "source": [
    "class SimpleMLP(nn.Module):\n",
    "    def __init__(self):\n",
    "        super().__init__()\n",
    "        self.layer_0 = Flatten(1, -1)\n",
    "        self.layer_1 = Linear(28**2, 100)\n",
    "        self.layer_2 = ReLU()\n",
    "        self.layer_3 = Linear(100, 10)\n",
    "        self.layers = [self.layer_0, self.layer_1, self.layer_2, self.layer_3]\n",
    "\n",
    "\n",
    "    def forward(self, x: t.Tensor) -> t.Tensor:\n",
    "        for layer in self.layers:\n",
    "            x = layer.forward(x)\n",
    "        return x\n",
    "\n",
    "\n",
    "\n",
    "tests.test_mlp(SimpleMLP)"
   ]
  },
  {
   "cell_type": "markdown",
   "metadata": {},
   "source": [
    "## Training"
   ]
  },
  {
   "cell_type": "code",
   "execution_count": 61,
   "metadata": {},
   "outputs": [],
   "source": [
    "MNIST_TRANSFORM = transforms.Compose([\n",
    "    transforms.ToTensor(),\n",
    "    transforms.Normalize((0.1307,), (0.3081,))\n",
    "])\n",
    "\n",
    "def get_mnist(subset: int = 1):\n",
    "    '''Returns MNIST training data, sampled by the frequency given in `subset`.'''\n",
    "    mnist_trainset = datasets.MNIST(root=\"./data\", train=True, download=True, transform=MNIST_TRANSFORM)\n",
    "    mnist_testset = datasets.MNIST(root=\"./data\", train=False, download=True, transform=MNIST_TRANSFORM)\n",
    "\n",
    "    if subset > 1:\n",
    "        mnist_trainset = Subset(mnist_trainset, indices=range(0, len(mnist_trainset), subset))\n",
    "        mnist_testset = Subset(mnist_testset, indices=range(0, len(mnist_testset), subset))\n",
    "\n",
    "    return mnist_trainset, mnist_testset\n",
    "\n",
    "\n",
    "mnist_trainset, mnist_testset = get_mnist()\n",
    "mnist_trainloader = DataLoader(mnist_trainset, batch_size=64, shuffle=True)\n",
    "mnist_testloader = DataLoader(mnist_testset, batch_size=64, shuffle=False)"
   ]
  },
  {
   "cell_type": "markdown",
   "metadata": {},
   "source": [
    "#### Training Loop"
   ]
  },
  {
   "cell_type": "code",
   "execution_count": 62,
   "metadata": {},
   "outputs": [
    {
     "data": {
      "application/vnd.jupyter.widget-view+json": {
       "model_id": "275a564ca0cc447f83ac475af7da269c",
       "version_major": 2,
       "version_minor": 0
      },
      "text/plain": [
       "  0%|          | 0/3 [00:00<?, ?it/s]"
      ]
     },
     "metadata": {},
     "output_type": "display_data"
    },
    {
     "data": {
      "application/vnd.plotly.v1+json": {
       "config": {
        "plotlyServerURL": "https://plot.ly"
       },
       "data": [
        {
         "hovertemplate": "Num batches seen=%{x}<br>Cross entropy loss=%{y}<extra></extra>",
         "legendgroup": "",
         "line": {
          "color": "#636efa",
          "dash": "solid"
         },
         "marker": {
          "symbol": "circle"
         },
         "mode": "lines",
         "name": "",
         "orientation": "v",
         "showlegend": false,
         "type": "scatter",
         "x": [
          0,
          1,
          2,
          3,
          4,
          5,
          6,
          7,
          8,
          9,
          10,
          11,
          12,
          13,
          14,
          15,
          16,
          17,
          18,
          19,
          20,
          21,
          22,
          23,
          24,
          25,
          26,
          27,
          28,
          29,
          30,
          31,
          32,
          33,
          34,
          35,
          36,
          37,
          38,
          39,
          40,
          41,
          42,
          43,
          44,
          45,
          46,
          47,
          48,
          49,
          50,
          51,
          52,
          53,
          54,
          55,
          56,
          57,
          58,
          59,
          60,
          61,
          62,
          63,
          64,
          65,
          66,
          67,
          68,
          69,
          70,
          71,
          72,
          73,
          74,
          75,
          76,
          77,
          78,
          79,
          80,
          81,
          82,
          83,
          84,
          85,
          86,
          87,
          88,
          89,
          90,
          91,
          92,
          93,
          94,
          95,
          96,
          97,
          98,
          99,
          100,
          101,
          102,
          103,
          104,
          105,
          106,
          107,
          108,
          109,
          110,
          111,
          112,
          113,
          114,
          115,
          116,
          117,
          118,
          119,
          120,
          121,
          122,
          123,
          124,
          125,
          126,
          127,
          128,
          129,
          130,
          131,
          132,
          133,
          134,
          135,
          136,
          137,
          138,
          139,
          140,
          141,
          142,
          143,
          144,
          145,
          146,
          147,
          148,
          149,
          150,
          151,
          152,
          153,
          154,
          155,
          156,
          157,
          158,
          159,
          160,
          161,
          162,
          163,
          164,
          165,
          166,
          167,
          168,
          169,
          170,
          171,
          172,
          173,
          174,
          175,
          176,
          177,
          178,
          179,
          180,
          181,
          182,
          183,
          184,
          185,
          186,
          187,
          188,
          189,
          190,
          191,
          192,
          193,
          194,
          195,
          196,
          197,
          198,
          199,
          200,
          201,
          202,
          203,
          204,
          205,
          206,
          207,
          208,
          209,
          210,
          211,
          212,
          213,
          214,
          215,
          216,
          217,
          218,
          219,
          220,
          221,
          222,
          223,
          224,
          225,
          226,
          227,
          228,
          229,
          230,
          231,
          232,
          233,
          234,
          235,
          236,
          237,
          238,
          239,
          240,
          241,
          242,
          243,
          244,
          245,
          246,
          247,
          248,
          249,
          250,
          251,
          252,
          253,
          254,
          255,
          256,
          257,
          258,
          259,
          260,
          261,
          262,
          263,
          264,
          265,
          266,
          267,
          268,
          269,
          270,
          271,
          272,
          273,
          274,
          275,
          276,
          277,
          278,
          279,
          280,
          281
         ],
         "xaxis": "x",
         "y": [
          2.322627544403076,
          2.2404956817626953,
          2.067842960357666,
          2.0148825645446777,
          1.92508864402771,
          1.7455732822418213,
          1.8384058475494385,
          1.5492780208587646,
          1.4494223594665527,
          1.4395191669464111,
          1.3887587785720825,
          1.2089385986328125,
          1.2103606462478638,
          1.1248133182525635,
          1.104466438293457,
          1.1010760068893433,
          0.9263961911201477,
          0.9871447682380676,
          0.6738072633743286,
          0.8166630864143372,
          0.8503554463386536,
          0.7589510679244995,
          0.7294187545776367,
          0.9527803659439087,
          0.8089412450790405,
          0.8081185221672058,
          0.7389761209487915,
          0.8614965081214905,
          0.7099716067314148,
          0.5780774354934692,
          0.7190645933151245,
          0.7984269857406616,
          0.5986320972442627,
          0.6432358026504517,
          0.509553849697113,
          0.6032017469406128,
          0.5150253176689148,
          0.46902644634246826,
          0.6103957295417786,
          0.6542498469352722,
          0.44040781259536743,
          0.5257530212402344,
          0.5202735662460327,
          0.4705842435359955,
          0.6719321012496948,
          0.6659755706787109,
          0.543781042098999,
          0.5285953283309937,
          0.4736637473106384,
          0.5193652510643005,
          0.5583347082138062,
          0.4209977388381958,
          0.49845436215400696,
          0.2585274875164032,
          0.6266465187072754,
          0.4944011867046356,
          0.38973814249038696,
          0.5285000801086426,
          0.47475263476371765,
          0.5633490681648254,
          0.237317755818367,
          0.5710744857788086,
          0.49825242161750793,
          0.4489477276802063,
          0.4387155771255493,
          0.33706778287887573,
          0.30330055952072144,
          0.5914883613586426,
          0.4846932888031006,
          0.4787052273750305,
          0.45597177743911743,
          0.7071783542633057,
          0.4509199261665344,
          0.6228079795837402,
          0.3665403723716736,
          0.6834921836853027,
          0.41043660044670105,
          0.39652496576309204,
          0.444978266954422,
          0.3652205467224121,
          0.42719727754592896,
          0.5873987078666687,
          0.3631238341331482,
          0.38431644439697266,
          0.6152670383453369,
          0.29475778341293335,
          0.44793379306793213,
          0.2273307889699936,
          0.41665875911712646,
          0.2521686851978302,
          0.3129410147666931,
          0.31189852952957153,
          0.195746511220932,
          0.41968825459480286,
          0.5627049207687378,
          0.3195066452026367,
          0.37055984139442444,
          0.5189211368560791,
          0.36670586466789246,
          0.38822147250175476,
          0.2957908511161804,
          0.2629525363445282,
          0.4021631181240082,
          0.3439368009567261,
          0.2722727656364441,
          0.3038327097892761,
          0.21550458669662476,
          0.3450058698654175,
          0.58919358253479,
          0.41978031396865845,
          0.2462301403284073,
          0.45988577604293823,
          0.23313292860984802,
          0.18343746662139893,
          0.39678385853767395,
          0.41064655780792236,
          0.37095576524734497,
          0.4823991656303406,
          0.4873517155647278,
          0.33053654432296753,
          0.4095616638660431,
          0.4487769901752472,
          0.3356403112411499,
          0.34372884035110474,
          0.45430392026901245,
          0.2620311975479126,
          0.39214015007019043,
          0.27503031492233276,
          0.25840336084365845,
          0.45798495411872864,
          0.27918192744255066,
          0.23185744881629944,
          0.2644822597503662,
          0.3874112367630005,
          0.22926971316337585,
          0.24288958311080933,
          0.37656834721565247,
          0.26477697491645813,
          0.3697027564048767,
          0.37422090768814087,
          0.4533323049545288,
          0.44693976640701294,
          0.29878562688827515,
          0.2917878329753876,
          0.3875592052936554,
          0.36326146125793457,
          0.4137316048145294,
          0.3856002688407898,
          0.4768033027648926,
          0.2143593430519104,
          0.43237996101379395,
          0.29216721653938293,
          0.49288713932037354,
          0.29170703887939453,
          0.4606931805610657,
          0.38853392004966736,
          0.37301135063171387,
          0.2320118546485901,
          0.4810895323753357,
          0.33402177691459656,
          0.3212156295776367,
          0.23099307715892792,
          0.20631232857704163,
          0.5251768827438354,
          0.4189414083957672,
          0.23476779460906982,
          0.3952826261520386,
          0.2550854980945587,
          0.34419679641723633,
          0.2063921093940735,
          0.5500182509422302,
          0.2470068335533142,
          0.6003882884979248,
          0.24204888939857483,
          0.18419408798217773,
          0.26363518834114075,
          0.21765820682048798,
          0.2569180130958557,
          0.45214664936065674,
          0.2722128927707672,
          0.39185571670532227,
          0.19397643208503723,
          0.2878086566925049,
          0.23931105434894562,
          0.22883601486682892,
          0.24908065795898438,
          0.45737361907958984,
          0.19098371267318726,
          0.2056749314069748,
          0.3374568819999695,
          0.35881760716438293,
          0.20925836265087128,
          0.26744797825813293,
          0.2633441984653473,
          0.3484899401664734,
          0.1359209269285202,
          0.28226399421691895,
          0.12146464735269547,
          0.30611690878868103,
          0.24823826551437378,
          0.12452362477779388,
          0.1605866551399231,
          0.1633545458316803,
          0.23524437844753265,
          0.4044897258281708,
          0.2452322244644165,
          0.2895279824733734,
          0.12267818301916122,
          0.18968725204467773,
          0.17606735229492188,
          0.22119036316871643,
          0.2381703108549118,
          0.46828368306159973,
          0.2747640013694763,
          0.22891563177108765,
          0.21619892120361328,
          0.4731953740119934,
          0.15700551867485046,
          0.20567622780799866,
          0.20564168691635132,
          0.32920774817466736,
          0.35141023993492126,
          0.27562111616134644,
          0.2988356947898865,
          0.4035302400588989,
          0.15365377068519592,
          0.34269481897354126,
          0.24846769869327545,
          0.2637024521827698,
          0.42350998520851135,
          0.11799575388431549,
          0.31602561473846436,
          0.2567563056945801,
          0.2396302968263626,
          0.4126444458961487,
          0.5013599395751953,
          0.3201342225074768,
          0.31658586859703064,
          0.22741146385669708,
          0.16590237617492676,
          0.31335967779159546,
          0.21459046006202698,
          0.2997881770133972,
          0.18500608205795288,
          0.2841540277004242,
          0.2725302577018738,
          0.24736598134040833,
          0.29114633798599243,
          0.2692970335483551,
          0.2584715485572815,
          0.22833466529846191,
          0.3311580419540405,
          0.3888329863548279,
          0.24331632256507874,
          0.3073655366897583,
          0.1960080862045288,
          0.22096996009349823,
          0.2860028147697449,
          0.29962611198425293,
          0.376115083694458,
          0.20634737610816956,
          0.1699337363243103,
          0.2594028115272522,
          0.16097159683704376,
          0.3627268671989441,
          0.5241098403930664,
          0.2699269950389862,
          0.4622270464897156,
          0.4472295641899109,
          0.2845701575279236,
          0.08330658078193665,
          0.23324072360992432,
          0.38176923990249634,
          0.350859135389328,
          0.3851410448551178,
          0.27652275562286377,
          0.25577667355537415,
          0.2262072116136551,
          0.2617037296295166,
          0.33709627389907837,
          0.36256903409957886,
          0.1893220990896225
         ],
         "yaxis": "y"
        }
       ],
       "layout": {
        "hovermode": "x unified",
        "legend": {
         "tracegroupgap": 0
        },
        "template": {
         "data": {
          "bar": [
           {
            "error_x": {
             "color": "#2a3f5f"
            },
            "error_y": {
             "color": "#2a3f5f"
            },
            "marker": {
             "line": {
              "color": "#E5ECF6",
              "width": 0.5
             },
             "pattern": {
              "fillmode": "overlay",
              "size": 10,
              "solidity": 0.2
             }
            },
            "type": "bar"
           }
          ],
          "barpolar": [
           {
            "marker": {
             "line": {
              "color": "#E5ECF6",
              "width": 0.5
             },
             "pattern": {
              "fillmode": "overlay",
              "size": 10,
              "solidity": 0.2
             }
            },
            "type": "barpolar"
           }
          ],
          "carpet": [
           {
            "aaxis": {
             "endlinecolor": "#2a3f5f",
             "gridcolor": "white",
             "linecolor": "white",
             "minorgridcolor": "white",
             "startlinecolor": "#2a3f5f"
            },
            "baxis": {
             "endlinecolor": "#2a3f5f",
             "gridcolor": "white",
             "linecolor": "white",
             "minorgridcolor": "white",
             "startlinecolor": "#2a3f5f"
            },
            "type": "carpet"
           }
          ],
          "choropleth": [
           {
            "colorbar": {
             "outlinewidth": 0,
             "ticks": ""
            },
            "type": "choropleth"
           }
          ],
          "contour": [
           {
            "colorbar": {
             "outlinewidth": 0,
             "ticks": ""
            },
            "colorscale": [
             [
              0,
              "#0d0887"
             ],
             [
              0.1111111111111111,
              "#46039f"
             ],
             [
              0.2222222222222222,
              "#7201a8"
             ],
             [
              0.3333333333333333,
              "#9c179e"
             ],
             [
              0.4444444444444444,
              "#bd3786"
             ],
             [
              0.5555555555555556,
              "#d8576b"
             ],
             [
              0.6666666666666666,
              "#ed7953"
             ],
             [
              0.7777777777777778,
              "#fb9f3a"
             ],
             [
              0.8888888888888888,
              "#fdca26"
             ],
             [
              1,
              "#f0f921"
             ]
            ],
            "type": "contour"
           }
          ],
          "contourcarpet": [
           {
            "colorbar": {
             "outlinewidth": 0,
             "ticks": ""
            },
            "type": "contourcarpet"
           }
          ],
          "heatmap": [
           {
            "colorbar": {
             "outlinewidth": 0,
             "ticks": ""
            },
            "colorscale": [
             [
              0,
              "#0d0887"
             ],
             [
              0.1111111111111111,
              "#46039f"
             ],
             [
              0.2222222222222222,
              "#7201a8"
             ],
             [
              0.3333333333333333,
              "#9c179e"
             ],
             [
              0.4444444444444444,
              "#bd3786"
             ],
             [
              0.5555555555555556,
              "#d8576b"
             ],
             [
              0.6666666666666666,
              "#ed7953"
             ],
             [
              0.7777777777777778,
              "#fb9f3a"
             ],
             [
              0.8888888888888888,
              "#fdca26"
             ],
             [
              1,
              "#f0f921"
             ]
            ],
            "type": "heatmap"
           }
          ],
          "heatmapgl": [
           {
            "colorbar": {
             "outlinewidth": 0,
             "ticks": ""
            },
            "colorscale": [
             [
              0,
              "#0d0887"
             ],
             [
              0.1111111111111111,
              "#46039f"
             ],
             [
              0.2222222222222222,
              "#7201a8"
             ],
             [
              0.3333333333333333,
              "#9c179e"
             ],
             [
              0.4444444444444444,
              "#bd3786"
             ],
             [
              0.5555555555555556,
              "#d8576b"
             ],
             [
              0.6666666666666666,
              "#ed7953"
             ],
             [
              0.7777777777777778,
              "#fb9f3a"
             ],
             [
              0.8888888888888888,
              "#fdca26"
             ],
             [
              1,
              "#f0f921"
             ]
            ],
            "type": "heatmapgl"
           }
          ],
          "histogram": [
           {
            "marker": {
             "pattern": {
              "fillmode": "overlay",
              "size": 10,
              "solidity": 0.2
             }
            },
            "type": "histogram"
           }
          ],
          "histogram2d": [
           {
            "colorbar": {
             "outlinewidth": 0,
             "ticks": ""
            },
            "colorscale": [
             [
              0,
              "#0d0887"
             ],
             [
              0.1111111111111111,
              "#46039f"
             ],
             [
              0.2222222222222222,
              "#7201a8"
             ],
             [
              0.3333333333333333,
              "#9c179e"
             ],
             [
              0.4444444444444444,
              "#bd3786"
             ],
             [
              0.5555555555555556,
              "#d8576b"
             ],
             [
              0.6666666666666666,
              "#ed7953"
             ],
             [
              0.7777777777777778,
              "#fb9f3a"
             ],
             [
              0.8888888888888888,
              "#fdca26"
             ],
             [
              1,
              "#f0f921"
             ]
            ],
            "type": "histogram2d"
           }
          ],
          "histogram2dcontour": [
           {
            "colorbar": {
             "outlinewidth": 0,
             "ticks": ""
            },
            "colorscale": [
             [
              0,
              "#0d0887"
             ],
             [
              0.1111111111111111,
              "#46039f"
             ],
             [
              0.2222222222222222,
              "#7201a8"
             ],
             [
              0.3333333333333333,
              "#9c179e"
             ],
             [
              0.4444444444444444,
              "#bd3786"
             ],
             [
              0.5555555555555556,
              "#d8576b"
             ],
             [
              0.6666666666666666,
              "#ed7953"
             ],
             [
              0.7777777777777778,
              "#fb9f3a"
             ],
             [
              0.8888888888888888,
              "#fdca26"
             ],
             [
              1,
              "#f0f921"
             ]
            ],
            "type": "histogram2dcontour"
           }
          ],
          "mesh3d": [
           {
            "colorbar": {
             "outlinewidth": 0,
             "ticks": ""
            },
            "type": "mesh3d"
           }
          ],
          "parcoords": [
           {
            "line": {
             "colorbar": {
              "outlinewidth": 0,
              "ticks": ""
             }
            },
            "type": "parcoords"
           }
          ],
          "pie": [
           {
            "automargin": true,
            "type": "pie"
           }
          ],
          "scatter": [
           {
            "fillpattern": {
             "fillmode": "overlay",
             "size": 10,
             "solidity": 0.2
            },
            "type": "scatter"
           }
          ],
          "scatter3d": [
           {
            "line": {
             "colorbar": {
              "outlinewidth": 0,
              "ticks": ""
             }
            },
            "marker": {
             "colorbar": {
              "outlinewidth": 0,
              "ticks": ""
             }
            },
            "type": "scatter3d"
           }
          ],
          "scattercarpet": [
           {
            "marker": {
             "colorbar": {
              "outlinewidth": 0,
              "ticks": ""
             }
            },
            "type": "scattercarpet"
           }
          ],
          "scattergeo": [
           {
            "marker": {
             "colorbar": {
              "outlinewidth": 0,
              "ticks": ""
             }
            },
            "type": "scattergeo"
           }
          ],
          "scattergl": [
           {
            "marker": {
             "colorbar": {
              "outlinewidth": 0,
              "ticks": ""
             }
            },
            "type": "scattergl"
           }
          ],
          "scattermapbox": [
           {
            "marker": {
             "colorbar": {
              "outlinewidth": 0,
              "ticks": ""
             }
            },
            "type": "scattermapbox"
           }
          ],
          "scatterpolar": [
           {
            "marker": {
             "colorbar": {
              "outlinewidth": 0,
              "ticks": ""
             }
            },
            "type": "scatterpolar"
           }
          ],
          "scatterpolargl": [
           {
            "marker": {
             "colorbar": {
              "outlinewidth": 0,
              "ticks": ""
             }
            },
            "type": "scatterpolargl"
           }
          ],
          "scatterternary": [
           {
            "marker": {
             "colorbar": {
              "outlinewidth": 0,
              "ticks": ""
             }
            },
            "type": "scatterternary"
           }
          ],
          "surface": [
           {
            "colorbar": {
             "outlinewidth": 0,
             "ticks": ""
            },
            "colorscale": [
             [
              0,
              "#0d0887"
             ],
             [
              0.1111111111111111,
              "#46039f"
             ],
             [
              0.2222222222222222,
              "#7201a8"
             ],
             [
              0.3333333333333333,
              "#9c179e"
             ],
             [
              0.4444444444444444,
              "#bd3786"
             ],
             [
              0.5555555555555556,
              "#d8576b"
             ],
             [
              0.6666666666666666,
              "#ed7953"
             ],
             [
              0.7777777777777778,
              "#fb9f3a"
             ],
             [
              0.8888888888888888,
              "#fdca26"
             ],
             [
              1,
              "#f0f921"
             ]
            ],
            "type": "surface"
           }
          ],
          "table": [
           {
            "cells": {
             "fill": {
              "color": "#EBF0F8"
             },
             "line": {
              "color": "white"
             }
            },
            "header": {
             "fill": {
              "color": "#C8D4E3"
             },
             "line": {
              "color": "white"
             }
            },
            "type": "table"
           }
          ]
         },
         "layout": {
          "annotationdefaults": {
           "arrowcolor": "#2a3f5f",
           "arrowhead": 0,
           "arrowwidth": 1
          },
          "autotypenumbers": "strict",
          "coloraxis": {
           "colorbar": {
            "outlinewidth": 0,
            "ticks": ""
           }
          },
          "colorscale": {
           "diverging": [
            [
             0,
             "#8e0152"
            ],
            [
             0.1,
             "#c51b7d"
            ],
            [
             0.2,
             "#de77ae"
            ],
            [
             0.3,
             "#f1b6da"
            ],
            [
             0.4,
             "#fde0ef"
            ],
            [
             0.5,
             "#f7f7f7"
            ],
            [
             0.6,
             "#e6f5d0"
            ],
            [
             0.7,
             "#b8e186"
            ],
            [
             0.8,
             "#7fbc41"
            ],
            [
             0.9,
             "#4d9221"
            ],
            [
             1,
             "#276419"
            ]
           ],
           "sequential": [
            [
             0,
             "#0d0887"
            ],
            [
             0.1111111111111111,
             "#46039f"
            ],
            [
             0.2222222222222222,
             "#7201a8"
            ],
            [
             0.3333333333333333,
             "#9c179e"
            ],
            [
             0.4444444444444444,
             "#bd3786"
            ],
            [
             0.5555555555555556,
             "#d8576b"
            ],
            [
             0.6666666666666666,
             "#ed7953"
            ],
            [
             0.7777777777777778,
             "#fb9f3a"
            ],
            [
             0.8888888888888888,
             "#fdca26"
            ],
            [
             1,
             "#f0f921"
            ]
           ],
           "sequentialminus": [
            [
             0,
             "#0d0887"
            ],
            [
             0.1111111111111111,
             "#46039f"
            ],
            [
             0.2222222222222222,
             "#7201a8"
            ],
            [
             0.3333333333333333,
             "#9c179e"
            ],
            [
             0.4444444444444444,
             "#bd3786"
            ],
            [
             0.5555555555555556,
             "#d8576b"
            ],
            [
             0.6666666666666666,
             "#ed7953"
            ],
            [
             0.7777777777777778,
             "#fb9f3a"
            ],
            [
             0.8888888888888888,
             "#fdca26"
            ],
            [
             1,
             "#f0f921"
            ]
           ]
          },
          "colorway": [
           "#636efa",
           "#EF553B",
           "#00cc96",
           "#ab63fa",
           "#FFA15A",
           "#19d3f3",
           "#FF6692",
           "#B6E880",
           "#FF97FF",
           "#FECB52"
          ],
          "font": {
           "color": "#2a3f5f"
          },
          "geo": {
           "bgcolor": "white",
           "lakecolor": "white",
           "landcolor": "#E5ECF6",
           "showlakes": true,
           "showland": true,
           "subunitcolor": "white"
          },
          "hoverlabel": {
           "align": "left"
          },
          "hovermode": "closest",
          "mapbox": {
           "style": "light"
          },
          "paper_bgcolor": "white",
          "plot_bgcolor": "#E5ECF6",
          "polar": {
           "angularaxis": {
            "gridcolor": "white",
            "linecolor": "white",
            "ticks": ""
           },
           "bgcolor": "#E5ECF6",
           "radialaxis": {
            "gridcolor": "white",
            "linecolor": "white",
            "ticks": ""
           }
          },
          "scene": {
           "xaxis": {
            "backgroundcolor": "#E5ECF6",
            "gridcolor": "white",
            "gridwidth": 2,
            "linecolor": "white",
            "showbackground": true,
            "ticks": "",
            "zerolinecolor": "white"
           },
           "yaxis": {
            "backgroundcolor": "#E5ECF6",
            "gridcolor": "white",
            "gridwidth": 2,
            "linecolor": "white",
            "showbackground": true,
            "ticks": "",
            "zerolinecolor": "white"
           },
           "zaxis": {
            "backgroundcolor": "#E5ECF6",
            "gridcolor": "white",
            "gridwidth": 2,
            "linecolor": "white",
            "showbackground": true,
            "ticks": "",
            "zerolinecolor": "white"
           }
          },
          "shapedefaults": {
           "line": {
            "color": "#2a3f5f"
           }
          },
          "ternary": {
           "aaxis": {
            "gridcolor": "white",
            "linecolor": "white",
            "ticks": ""
           },
           "baxis": {
            "gridcolor": "white",
            "linecolor": "white",
            "ticks": ""
           },
           "bgcolor": "#E5ECF6",
           "caxis": {
            "gridcolor": "white",
            "linecolor": "white",
            "ticks": ""
           }
          },
          "title": {
           "x": 0.05
          },
          "xaxis": {
           "automargin": true,
           "gridcolor": "white",
           "linecolor": "white",
           "ticks": "",
           "title": {
            "standoff": 15
           },
           "zerolinecolor": "white",
           "zerolinewidth": 2
          },
          "yaxis": {
           "automargin": true,
           "gridcolor": "white",
           "linecolor": "white",
           "ticks": "",
           "title": {
            "standoff": 15
           },
           "zerolinecolor": "white",
           "zerolinewidth": 2
          }
         }
        },
        "title": {
         "text": "SimpleMLP training on MNIST"
        },
        "width": 700,
        "xaxis": {
         "anchor": "y",
         "domain": [
          0,
          1
         ],
         "title": {
          "text": "Num batches seen"
         }
        },
        "yaxis": {
         "anchor": "x",
         "domain": [
          0,
          1
         ],
         "range": [
          0,
          2.4226275444030763
         ],
         "title": {
          "text": "Cross entropy loss"
         }
        }
       }
      }
     },
     "metadata": {},
     "output_type": "display_data"
    }
   ],
   "source": [
    "model = SimpleMLP().to(device)\n",
    "\n",
    "batch_size = 64\n",
    "epochs = 3\n",
    "\n",
    "mnist_trainset, _ = get_mnist(subset = 10)\n",
    "mnist_trainloader = DataLoader(mnist_trainset, batch_size=batch_size, shuffle=True)\n",
    "\n",
    "optimizer = t.optim.Adam(model.parameters(), lr=1e-3)\n",
    "loss_list = []\n",
    "\n",
    "for epoch in tqdm(range(epochs)):\n",
    "    for imgs, labels in mnist_trainloader:\n",
    "        imgs = imgs.to(device)\n",
    "        labels = labels.to(device)\n",
    "        logits = model(imgs)\n",
    "        loss = F.cross_entropy(logits, labels)\n",
    "        loss.backward()\n",
    "        optimizer.step()\n",
    "        optimizer.zero_grad()\n",
    "        loss_list.append(loss.item())   \n",
    "\n",
    "line(\n",
    "    loss_list, \n",
    "    yaxis_range=[0, max(loss_list) + 0.1],\n",
    "    labels={\"x\": \"Num batches seen\", \"y\": \"Cross entropy loss\"}, \n",
    "    title=\"SimpleMLP training on MNIST\",\n",
    "    width=700\n",
    ")"
   ]
  },
  {
   "cell_type": "markdown",
   "metadata": {},
   "source": [
    "### Exercise - Add a validation loop"
   ]
  },
  {
   "cell_type": "markdown",
   "metadata": {},
   "source": [
    "Difficulty: 🔴🔴🔴⚪⚪\n",
    "Importance: 🔵🔵🔵🔵🔵\n",
    "\n",
    "You should spend up to ~20 minutes on this exercise.\n",
    "\n",
    "It is very important that you understand training loops and how they work, because we'll be doing a lot of model training in this way."
   ]
  },
  {
   "cell_type": "code",
   "execution_count": 109,
   "metadata": {},
   "outputs": [
    {
     "data": {
      "application/vnd.jupyter.widget-view+json": {
       "model_id": "0e1084cbdaa64727bb4addc3cb420b97",
       "version_major": 2,
       "version_minor": 0
      },
      "text/plain": [
       "  0%|          | 0/3 [00:00<?, ?it/s]"
      ]
     },
     "metadata": {},
     "output_type": "display_data"
    },
    {
     "name": "stdout",
     "output_type": "stream",
     "text": [
      "Validation loop #0: 873 correctly predicted out of 1000. Accuracy: 87.3%\n",
      "Validation loop #1: 878 correctly predicted out of 1000. Accuracy: 87.8%\n",
      "Validation loop #2: 895 correctly predicted out of 1000. Accuracy: 89.5%\n"
     ]
    },
    {
     "data": {
      "application/vnd.plotly.v1+json": {
       "config": {
        "plotlyServerURL": "https://plot.ly"
       },
       "data": [
        {
         "hovertemplate": "Num batches seen=%{x}<br>Cross entropy loss=%{y}<extra></extra>",
         "legendgroup": "",
         "line": {
          "color": "#636efa",
          "dash": "solid"
         },
         "marker": {
          "symbol": "circle"
         },
         "mode": "lines",
         "name": "",
         "orientation": "v",
         "showlegend": false,
         "type": "scatter",
         "x": [
          0,
          1,
          2,
          3,
          4,
          5,
          6,
          7,
          8,
          9,
          10,
          11,
          12,
          13,
          14,
          15,
          16,
          17,
          18,
          19,
          20,
          21,
          22,
          23,
          24,
          25,
          26,
          27,
          28,
          29,
          30,
          31,
          32,
          33,
          34,
          35,
          36,
          37,
          38,
          39,
          40,
          41,
          42,
          43,
          44,
          45,
          46,
          47,
          48,
          49,
          50,
          51,
          52,
          53,
          54,
          55,
          56,
          57,
          58,
          59,
          60,
          61,
          62,
          63,
          64,
          65,
          66,
          67,
          68,
          69,
          70,
          71,
          72,
          73,
          74,
          75,
          76,
          77,
          78,
          79,
          80,
          81,
          82,
          83,
          84,
          85,
          86,
          87,
          88,
          89,
          90,
          91,
          92,
          93,
          94,
          95,
          96,
          97,
          98,
          99,
          100,
          101,
          102,
          103,
          104,
          105,
          106,
          107,
          108,
          109,
          110,
          111,
          112,
          113,
          114,
          115,
          116,
          117,
          118,
          119,
          120,
          121,
          122,
          123,
          124,
          125,
          126,
          127,
          128,
          129,
          130,
          131,
          132,
          133,
          134,
          135,
          136,
          137,
          138,
          139,
          140,
          141,
          142,
          143,
          144,
          145,
          146,
          147,
          148,
          149,
          150,
          151,
          152,
          153,
          154,
          155,
          156,
          157,
          158,
          159,
          160,
          161,
          162,
          163,
          164,
          165,
          166,
          167,
          168,
          169,
          170,
          171,
          172,
          173,
          174,
          175,
          176,
          177,
          178,
          179,
          180,
          181,
          182,
          183,
          184,
          185,
          186,
          187,
          188,
          189,
          190,
          191,
          192,
          193,
          194,
          195,
          196,
          197,
          198,
          199,
          200,
          201,
          202,
          203,
          204,
          205,
          206,
          207,
          208,
          209,
          210,
          211,
          212,
          213,
          214,
          215,
          216,
          217,
          218,
          219,
          220,
          221,
          222,
          223,
          224,
          225,
          226,
          227,
          228,
          229,
          230,
          231,
          232,
          233,
          234,
          235,
          236,
          237,
          238,
          239,
          240,
          241,
          242,
          243,
          244,
          245,
          246,
          247,
          248,
          249,
          250,
          251,
          252,
          253,
          254,
          255,
          256,
          257,
          258,
          259,
          260,
          261,
          262,
          263,
          264,
          265,
          266,
          267,
          268,
          269,
          270,
          271,
          272,
          273,
          274,
          275,
          276,
          277,
          278,
          279,
          280,
          281
         ],
         "xaxis": "x",
         "y": [
          2.2783055305480957,
          2.2178902626037598,
          2.165294647216797,
          1.9928486347198486,
          1.9053843021392822,
          1.804386019706726,
          1.6310454607009888,
          1.5963243246078491,
          1.5483478307724,
          1.482156753540039,
          1.392287015914917,
          1.266774296760559,
          1.218269944190979,
          1.0680090188980103,
          0.9124127626419067,
          1.0602952241897583,
          1.043215274810791,
          0.9195334911346436,
          0.9295530319213867,
          0.8323966264724731,
          0.8624565601348877,
          0.728053867816925,
          0.7119858264923096,
          0.9688106775283813,
          0.6528366804122925,
          0.5782464146614075,
          0.6163556575775146,
          0.6457066535949707,
          0.5756136775016785,
          0.6959280967712402,
          0.6649487018585205,
          0.5216338634490967,
          0.653856635093689,
          0.6918751001358032,
          0.532996416091919,
          0.46832436323165894,
          0.7805473804473877,
          0.683090329170227,
          0.40393540263175964,
          0.6179730892181396,
          0.5650050640106201,
          0.465791791677475,
          0.5356079339981079,
          0.37284141778945923,
          0.5874043703079224,
          0.5078881978988647,
          0.6876720786094666,
          0.48761242628097534,
          0.5249378085136414,
          0.804980993270874,
          0.5048460364341736,
          0.48448026180267334,
          0.35181719064712524,
          0.48312798142433167,
          0.44038957357406616,
          0.4252063035964966,
          0.5562300682067871,
          0.3484283685684204,
          0.6306275129318237,
          0.4927213191986084,
          0.3484615683555603,
          0.574471652507782,
          0.4707546830177307,
          0.394706130027771,
          0.4472624957561493,
          0.421186238527298,
          0.2816881537437439,
          0.4920048117637634,
          0.46911904215812683,
          0.6646236777305603,
          0.44837599992752075,
          0.45287591218948364,
          0.3565557599067688,
          0.27459627389907837,
          0.6823557615280151,
          0.4400322139263153,
          0.41980621218681335,
          0.29859381914138794,
          0.3835652470588684,
          0.29931098222732544,
          0.375544011592865,
          0.4144887626171112,
          0.5519078969955444,
          0.34245383739471436,
          0.2927711308002472,
          0.31883305311203003,
          0.4121556580066681,
          0.2685657739639282,
          0.20528358221054077,
          0.4434505105018616,
          0.3275987505912781,
          0.5276241302490234,
          0.4539366662502289,
          0.31063345074653625,
          0.3052150309085846,
          0.4912753999233246,
          0.3240741491317749,
          0.3105713129043579,
          0.4067305326461792,
          0.3539952039718628,
          0.3754616379737854,
          0.34344160556793213,
          0.3825763463973999,
          0.4049810469150543,
          0.3039112687110901,
          0.38798820972442627,
          0.41216450929641724,
          0.24276138842105865,
          0.3681134581565857,
          0.45554330945014954,
          0.24606022238731384,
          0.3120651841163635,
          0.48535117506980896,
          0.5530567765235901,
          0.3487475514411926,
          0.1178855374455452,
          0.2644645571708679,
          0.4534374475479126,
          0.2915073037147522,
          0.3398485779762268,
          0.2497033178806305,
          0.5138182044029236,
          0.2741939127445221,
          0.4345526099205017,
          0.44872772693634033,
          0.37520819902420044,
          0.4973995089530945,
          0.2686033248901367,
          0.5612010359764099,
          0.38525390625,
          0.27186089754104614,
          0.43704667687416077,
          0.399649441242218,
          0.40159904956817627,
          0.33629992604255676,
          0.29960644245147705,
          0.2291923463344574,
          0.3213844299316406,
          0.25848132371902466,
          0.36534708738327026,
          0.41744136810302734,
          0.2822501063346863,
          0.4042030870914459,
          0.34686020016670227,
          0.23276178538799286,
          0.32298529148101807,
          0.24824044108390808,
          0.36941030621528625,
          0.331514835357666,
          0.457004576921463,
          0.2770521640777588,
          0.2721090316772461,
          0.34603652358055115,
          0.25173938274383545,
          0.2921915352344513,
          0.42081236839294434,
          0.3350750207901001,
          0.17354732751846313,
          0.5100980401039124,
          0.2950422763824463,
          0.4325583577156067,
          0.40780341625213623,
          0.336226224899292,
          0.2731207013130188,
          0.26626652479171753,
          0.23652783036231995,
          0.34435492753982544,
          0.22862985730171204,
          0.4213985502719879,
          0.2982528507709503,
          0.19353020191192627,
          0.23458439111709595,
          0.28889280557632446,
          0.22462628781795502,
          0.3112892210483551,
          0.4565228819847107,
          0.35553646087646484,
          0.3583582937717438,
          0.42495253682136536,
          0.2374904602766037,
          0.37852394580841064,
          0.16111353039741516,
          0.1830296665430069,
          0.31190454959869385,
          0.4121871292591095,
          0.2693324387073517,
          0.1326015740633011,
          0.21723508834838867,
          0.2339400202035904,
          0.22443240880966187,
          0.29422762989997864,
          0.2233327329158783,
          0.26350682973861694,
          0.20225897431373596,
          0.3545484244823456,
          0.3609861433506012,
          0.3018251061439514,
          0.18002089858055115,
          0.2924845218658447,
          0.17959797382354736,
          0.19670990109443665,
          0.194979727268219,
          0.22758135199546814,
          0.2906789779663086,
          0.3715512454509735,
          0.37280333042144775,
          0.4284721314907074,
          0.31077390909194946,
          0.2932576537132263,
          0.29756778478622437,
          0.33090484142303467,
          0.3852347731590271,
          0.2547079920768738,
          0.2832714319229126,
          0.1722269356250763,
          0.31276851892471313,
          0.32827597856521606,
          0.34049928188323975,
          0.2873922288417816,
          0.11453612148761749,
          0.28961458802223206,
          0.34105056524276733,
          0.37290090322494507,
          0.2780582904815674,
          0.346606969833374,
          0.23804868757724762,
          0.2965690791606903,
          0.15675123035907745,
          0.15340235829353333,
          0.18164771795272827,
          0.15328460931777954,
          0.1367446482181549,
          0.13146832585334778,
          0.3429275155067444,
          0.1909744143486023,
          0.41265055537223816,
          0.1527554839849472,
          0.36736878752708435,
          0.23629288375377655,
          0.44277793169021606,
          0.29964348673820496,
          0.2857217490673065,
          0.2948363423347473,
          0.273453950881958,
          0.24442894756793976,
          0.31386590003967285,
          0.19496135413646698,
          0.30577391386032104,
          0.20477527379989624,
          0.2096496969461441,
          0.3326853811740875,
          0.24670828878879547,
          0.24376310408115387,
          0.36394962668418884,
          0.24133627116680145,
          0.18721285462379456,
          0.41176798939704895,
          0.16203568875789642,
          0.16554298996925354,
          0.3572070896625519,
          0.2337554395198822,
          0.36918628215789795,
          0.11278088390827179,
          0.40694400668144226,
          0.33878687024116516,
          0.35693231225013733,
          0.24460187554359436,
          0.26515913009643555,
          0.17965927720069885,
          0.3682076334953308,
          0.28126800060272217,
          0.21537896990776062,
          0.23304691910743713,
          0.20420658588409424,
          0.22255361080169678,
          0.2972339987754822,
          0.16172698140144348,
          0.12626543641090393,
          0.16184303164482117,
          0.535163938999176,
          0.1858290135860443,
          0.38033902645111084
         ],
         "yaxis": "y"
        }
       ],
       "layout": {
        "hovermode": "x unified",
        "legend": {
         "tracegroupgap": 0
        },
        "template": {
         "data": {
          "bar": [
           {
            "error_x": {
             "color": "#2a3f5f"
            },
            "error_y": {
             "color": "#2a3f5f"
            },
            "marker": {
             "line": {
              "color": "#E5ECF6",
              "width": 0.5
             },
             "pattern": {
              "fillmode": "overlay",
              "size": 10,
              "solidity": 0.2
             }
            },
            "type": "bar"
           }
          ],
          "barpolar": [
           {
            "marker": {
             "line": {
              "color": "#E5ECF6",
              "width": 0.5
             },
             "pattern": {
              "fillmode": "overlay",
              "size": 10,
              "solidity": 0.2
             }
            },
            "type": "barpolar"
           }
          ],
          "carpet": [
           {
            "aaxis": {
             "endlinecolor": "#2a3f5f",
             "gridcolor": "white",
             "linecolor": "white",
             "minorgridcolor": "white",
             "startlinecolor": "#2a3f5f"
            },
            "baxis": {
             "endlinecolor": "#2a3f5f",
             "gridcolor": "white",
             "linecolor": "white",
             "minorgridcolor": "white",
             "startlinecolor": "#2a3f5f"
            },
            "type": "carpet"
           }
          ],
          "choropleth": [
           {
            "colorbar": {
             "outlinewidth": 0,
             "ticks": ""
            },
            "type": "choropleth"
           }
          ],
          "contour": [
           {
            "colorbar": {
             "outlinewidth": 0,
             "ticks": ""
            },
            "colorscale": [
             [
              0,
              "#0d0887"
             ],
             [
              0.1111111111111111,
              "#46039f"
             ],
             [
              0.2222222222222222,
              "#7201a8"
             ],
             [
              0.3333333333333333,
              "#9c179e"
             ],
             [
              0.4444444444444444,
              "#bd3786"
             ],
             [
              0.5555555555555556,
              "#d8576b"
             ],
             [
              0.6666666666666666,
              "#ed7953"
             ],
             [
              0.7777777777777778,
              "#fb9f3a"
             ],
             [
              0.8888888888888888,
              "#fdca26"
             ],
             [
              1,
              "#f0f921"
             ]
            ],
            "type": "contour"
           }
          ],
          "contourcarpet": [
           {
            "colorbar": {
             "outlinewidth": 0,
             "ticks": ""
            },
            "type": "contourcarpet"
           }
          ],
          "heatmap": [
           {
            "colorbar": {
             "outlinewidth": 0,
             "ticks": ""
            },
            "colorscale": [
             [
              0,
              "#0d0887"
             ],
             [
              0.1111111111111111,
              "#46039f"
             ],
             [
              0.2222222222222222,
              "#7201a8"
             ],
             [
              0.3333333333333333,
              "#9c179e"
             ],
             [
              0.4444444444444444,
              "#bd3786"
             ],
             [
              0.5555555555555556,
              "#d8576b"
             ],
             [
              0.6666666666666666,
              "#ed7953"
             ],
             [
              0.7777777777777778,
              "#fb9f3a"
             ],
             [
              0.8888888888888888,
              "#fdca26"
             ],
             [
              1,
              "#f0f921"
             ]
            ],
            "type": "heatmap"
           }
          ],
          "heatmapgl": [
           {
            "colorbar": {
             "outlinewidth": 0,
             "ticks": ""
            },
            "colorscale": [
             [
              0,
              "#0d0887"
             ],
             [
              0.1111111111111111,
              "#46039f"
             ],
             [
              0.2222222222222222,
              "#7201a8"
             ],
             [
              0.3333333333333333,
              "#9c179e"
             ],
             [
              0.4444444444444444,
              "#bd3786"
             ],
             [
              0.5555555555555556,
              "#d8576b"
             ],
             [
              0.6666666666666666,
              "#ed7953"
             ],
             [
              0.7777777777777778,
              "#fb9f3a"
             ],
             [
              0.8888888888888888,
              "#fdca26"
             ],
             [
              1,
              "#f0f921"
             ]
            ],
            "type": "heatmapgl"
           }
          ],
          "histogram": [
           {
            "marker": {
             "pattern": {
              "fillmode": "overlay",
              "size": 10,
              "solidity": 0.2
             }
            },
            "type": "histogram"
           }
          ],
          "histogram2d": [
           {
            "colorbar": {
             "outlinewidth": 0,
             "ticks": ""
            },
            "colorscale": [
             [
              0,
              "#0d0887"
             ],
             [
              0.1111111111111111,
              "#46039f"
             ],
             [
              0.2222222222222222,
              "#7201a8"
             ],
             [
              0.3333333333333333,
              "#9c179e"
             ],
             [
              0.4444444444444444,
              "#bd3786"
             ],
             [
              0.5555555555555556,
              "#d8576b"
             ],
             [
              0.6666666666666666,
              "#ed7953"
             ],
             [
              0.7777777777777778,
              "#fb9f3a"
             ],
             [
              0.8888888888888888,
              "#fdca26"
             ],
             [
              1,
              "#f0f921"
             ]
            ],
            "type": "histogram2d"
           }
          ],
          "histogram2dcontour": [
           {
            "colorbar": {
             "outlinewidth": 0,
             "ticks": ""
            },
            "colorscale": [
             [
              0,
              "#0d0887"
             ],
             [
              0.1111111111111111,
              "#46039f"
             ],
             [
              0.2222222222222222,
              "#7201a8"
             ],
             [
              0.3333333333333333,
              "#9c179e"
             ],
             [
              0.4444444444444444,
              "#bd3786"
             ],
             [
              0.5555555555555556,
              "#d8576b"
             ],
             [
              0.6666666666666666,
              "#ed7953"
             ],
             [
              0.7777777777777778,
              "#fb9f3a"
             ],
             [
              0.8888888888888888,
              "#fdca26"
             ],
             [
              1,
              "#f0f921"
             ]
            ],
            "type": "histogram2dcontour"
           }
          ],
          "mesh3d": [
           {
            "colorbar": {
             "outlinewidth": 0,
             "ticks": ""
            },
            "type": "mesh3d"
           }
          ],
          "parcoords": [
           {
            "line": {
             "colorbar": {
              "outlinewidth": 0,
              "ticks": ""
             }
            },
            "type": "parcoords"
           }
          ],
          "pie": [
           {
            "automargin": true,
            "type": "pie"
           }
          ],
          "scatter": [
           {
            "fillpattern": {
             "fillmode": "overlay",
             "size": 10,
             "solidity": 0.2
            },
            "type": "scatter"
           }
          ],
          "scatter3d": [
           {
            "line": {
             "colorbar": {
              "outlinewidth": 0,
              "ticks": ""
             }
            },
            "marker": {
             "colorbar": {
              "outlinewidth": 0,
              "ticks": ""
             }
            },
            "type": "scatter3d"
           }
          ],
          "scattercarpet": [
           {
            "marker": {
             "colorbar": {
              "outlinewidth": 0,
              "ticks": ""
             }
            },
            "type": "scattercarpet"
           }
          ],
          "scattergeo": [
           {
            "marker": {
             "colorbar": {
              "outlinewidth": 0,
              "ticks": ""
             }
            },
            "type": "scattergeo"
           }
          ],
          "scattergl": [
           {
            "marker": {
             "colorbar": {
              "outlinewidth": 0,
              "ticks": ""
             }
            },
            "type": "scattergl"
           }
          ],
          "scattermapbox": [
           {
            "marker": {
             "colorbar": {
              "outlinewidth": 0,
              "ticks": ""
             }
            },
            "type": "scattermapbox"
           }
          ],
          "scatterpolar": [
           {
            "marker": {
             "colorbar": {
              "outlinewidth": 0,
              "ticks": ""
             }
            },
            "type": "scatterpolar"
           }
          ],
          "scatterpolargl": [
           {
            "marker": {
             "colorbar": {
              "outlinewidth": 0,
              "ticks": ""
             }
            },
            "type": "scatterpolargl"
           }
          ],
          "scatterternary": [
           {
            "marker": {
             "colorbar": {
              "outlinewidth": 0,
              "ticks": ""
             }
            },
            "type": "scatterternary"
           }
          ],
          "surface": [
           {
            "colorbar": {
             "outlinewidth": 0,
             "ticks": ""
            },
            "colorscale": [
             [
              0,
              "#0d0887"
             ],
             [
              0.1111111111111111,
              "#46039f"
             ],
             [
              0.2222222222222222,
              "#7201a8"
             ],
             [
              0.3333333333333333,
              "#9c179e"
             ],
             [
              0.4444444444444444,
              "#bd3786"
             ],
             [
              0.5555555555555556,
              "#d8576b"
             ],
             [
              0.6666666666666666,
              "#ed7953"
             ],
             [
              0.7777777777777778,
              "#fb9f3a"
             ],
             [
              0.8888888888888888,
              "#fdca26"
             ],
             [
              1,
              "#f0f921"
             ]
            ],
            "type": "surface"
           }
          ],
          "table": [
           {
            "cells": {
             "fill": {
              "color": "#EBF0F8"
             },
             "line": {
              "color": "white"
             }
            },
            "header": {
             "fill": {
              "color": "#C8D4E3"
             },
             "line": {
              "color": "white"
             }
            },
            "type": "table"
           }
          ]
         },
         "layout": {
          "annotationdefaults": {
           "arrowcolor": "#2a3f5f",
           "arrowhead": 0,
           "arrowwidth": 1
          },
          "autotypenumbers": "strict",
          "coloraxis": {
           "colorbar": {
            "outlinewidth": 0,
            "ticks": ""
           }
          },
          "colorscale": {
           "diverging": [
            [
             0,
             "#8e0152"
            ],
            [
             0.1,
             "#c51b7d"
            ],
            [
             0.2,
             "#de77ae"
            ],
            [
             0.3,
             "#f1b6da"
            ],
            [
             0.4,
             "#fde0ef"
            ],
            [
             0.5,
             "#f7f7f7"
            ],
            [
             0.6,
             "#e6f5d0"
            ],
            [
             0.7,
             "#b8e186"
            ],
            [
             0.8,
             "#7fbc41"
            ],
            [
             0.9,
             "#4d9221"
            ],
            [
             1,
             "#276419"
            ]
           ],
           "sequential": [
            [
             0,
             "#0d0887"
            ],
            [
             0.1111111111111111,
             "#46039f"
            ],
            [
             0.2222222222222222,
             "#7201a8"
            ],
            [
             0.3333333333333333,
             "#9c179e"
            ],
            [
             0.4444444444444444,
             "#bd3786"
            ],
            [
             0.5555555555555556,
             "#d8576b"
            ],
            [
             0.6666666666666666,
             "#ed7953"
            ],
            [
             0.7777777777777778,
             "#fb9f3a"
            ],
            [
             0.8888888888888888,
             "#fdca26"
            ],
            [
             1,
             "#f0f921"
            ]
           ],
           "sequentialminus": [
            [
             0,
             "#0d0887"
            ],
            [
             0.1111111111111111,
             "#46039f"
            ],
            [
             0.2222222222222222,
             "#7201a8"
            ],
            [
             0.3333333333333333,
             "#9c179e"
            ],
            [
             0.4444444444444444,
             "#bd3786"
            ],
            [
             0.5555555555555556,
             "#d8576b"
            ],
            [
             0.6666666666666666,
             "#ed7953"
            ],
            [
             0.7777777777777778,
             "#fb9f3a"
            ],
            [
             0.8888888888888888,
             "#fdca26"
            ],
            [
             1,
             "#f0f921"
            ]
           ]
          },
          "colorway": [
           "#636efa",
           "#EF553B",
           "#00cc96",
           "#ab63fa",
           "#FFA15A",
           "#19d3f3",
           "#FF6692",
           "#B6E880",
           "#FF97FF",
           "#FECB52"
          ],
          "font": {
           "color": "#2a3f5f"
          },
          "geo": {
           "bgcolor": "white",
           "lakecolor": "white",
           "landcolor": "#E5ECF6",
           "showlakes": true,
           "showland": true,
           "subunitcolor": "white"
          },
          "hoverlabel": {
           "align": "left"
          },
          "hovermode": "closest",
          "mapbox": {
           "style": "light"
          },
          "paper_bgcolor": "white",
          "plot_bgcolor": "#E5ECF6",
          "polar": {
           "angularaxis": {
            "gridcolor": "white",
            "linecolor": "white",
            "ticks": ""
           },
           "bgcolor": "#E5ECF6",
           "radialaxis": {
            "gridcolor": "white",
            "linecolor": "white",
            "ticks": ""
           }
          },
          "scene": {
           "xaxis": {
            "backgroundcolor": "#E5ECF6",
            "gridcolor": "white",
            "gridwidth": 2,
            "linecolor": "white",
            "showbackground": true,
            "ticks": "",
            "zerolinecolor": "white"
           },
           "yaxis": {
            "backgroundcolor": "#E5ECF6",
            "gridcolor": "white",
            "gridwidth": 2,
            "linecolor": "white",
            "showbackground": true,
            "ticks": "",
            "zerolinecolor": "white"
           },
           "zaxis": {
            "backgroundcolor": "#E5ECF6",
            "gridcolor": "white",
            "gridwidth": 2,
            "linecolor": "white",
            "showbackground": true,
            "ticks": "",
            "zerolinecolor": "white"
           }
          },
          "shapedefaults": {
           "line": {
            "color": "#2a3f5f"
           }
          },
          "ternary": {
           "aaxis": {
            "gridcolor": "white",
            "linecolor": "white",
            "ticks": ""
           },
           "baxis": {
            "gridcolor": "white",
            "linecolor": "white",
            "ticks": ""
           },
           "bgcolor": "#E5ECF6",
           "caxis": {
            "gridcolor": "white",
            "linecolor": "white",
            "ticks": ""
           }
          },
          "title": {
           "x": 0.05
          },
          "xaxis": {
           "automargin": true,
           "gridcolor": "white",
           "linecolor": "white",
           "ticks": "",
           "title": {
            "standoff": 15
           },
           "zerolinecolor": "white",
           "zerolinewidth": 2
          },
          "yaxis": {
           "automargin": true,
           "gridcolor": "white",
           "linecolor": "white",
           "ticks": "",
           "title": {
            "standoff": 15
           },
           "zerolinecolor": "white",
           "zerolinewidth": 2
          }
         }
        },
        "title": {
         "text": "SimpleMLP training on MNIST"
        },
        "width": 700,
        "xaxis": {
         "anchor": "y",
         "domain": [
          0,
          1
         ],
         "title": {
          "text": "Num batches seen"
         }
        },
        "yaxis": {
         "anchor": "x",
         "domain": [
          0,
          1
         ],
         "range": [
          0,
          2.378305530548096
         ],
         "title": {
          "text": "Cross entropy loss"
         }
        }
       }
      }
     },
     "metadata": {},
     "output_type": "display_data"
    }
   ],
   "source": [
    "@dataclass\n",
    "class SimpleMLPTrainingArgs():\n",
    "    '''\n",
    "    Defining this class implicitly creates an __init__ method, which sets arguments as \n",
    "    given below, e.g. self.batch_size = 64. Any of these arguments can also be overridden\n",
    "    when you create an instance, e.g. args = SimpleMLPTrainingArgs(batch_size=128).\n",
    "    '''\n",
    "    batch_size: int = 64\n",
    "    epochs: int = 3\n",
    "    learning_rate: float = 1e-3\n",
    "    subset: int = 10\n",
    "\n",
    "\n",
    "def train(args: SimpleMLPTrainingArgs):\n",
    "    '''\n",
    "    Trains the model, using training parameters from the `args` object.\n",
    "    '''\n",
    "    model = SimpleMLP().to(device)\n",
    "\n",
    "    mnist_trainset, mnist_testset = get_mnist(subset=args.subset)\n",
    "    mnist_trainloader = DataLoader(mnist_trainset, batch_size=args.batch_size, shuffle=True)\n",
    "    mnist_testloader = DataLoader(mnist_testset, batch_size=args.batch_size)\n",
    "\n",
    "    optimizer = t.optim.Adam(model.parameters(), lr=args.learning_rate)\n",
    "    loss_list = []\n",
    "\n",
    "    for epoch in tqdm(range(args.epochs)):\n",
    "        for imgs, labels in mnist_trainloader:\n",
    "            imgs = imgs.to(device)\n",
    "            labels = labels.to(device)\n",
    "            logits = model(imgs)\n",
    "            loss = F.cross_entropy(logits, labels)\n",
    "            loss.backward()\n",
    "            optimizer.step()\n",
    "            optimizer.zero_grad()\n",
    "            loss_list.append(loss.item()) \n",
    "        # validate here\n",
    "        validated = 0\n",
    "        total_data = 0\n",
    "        for imgs, lbl in mnist_testloader:\n",
    "            imgs = imgs.to(device)\n",
    "            lbl = lbl.to(device)\n",
    "            logits = model(imgs)\n",
    "            predicted_lbl = t.argmax(logits, dim=-1)\n",
    "            validated += t.sum(predicted_lbl == lbl).item()\n",
    "            total_data += lbl.shape[0]\n",
    "        print('Validation loop #{0}: {1} correctly predicted out of {2}. Accuracy: {3}%'.format(epoch, validated, total_data, validated/total_data *100))\n",
    "\n",
    "\n",
    "    line(\n",
    "        loss_list, \n",
    "        yaxis_range=[0, max(loss_list) + 0.1],\n",
    "        labels={\"x\": \"Num batches seen\", \"y\": \"Cross entropy loss\"}, \n",
    "        title=\"SimpleMLP training on MNIST\",\n",
    "        width=700\n",
    "    )\n",
    "\n",
    "\n",
    "args = SimpleMLPTrainingArgs()\n",
    "train(args)"
   ]
  },
  {
   "cell_type": "markdown",
   "metadata": {},
   "source": [
    "## Convolutions"
   ]
  },
  {
   "cell_type": "markdown",
   "metadata": {},
   "source": [
    "### Exercise - implement Conv2d"
   ]
  },
  {
   "cell_type": "markdown",
   "metadata": {},
   "source": [
    "Difficulty: 🔴🔴🔴⚪⚪\n",
    "Importance: 🔵🔵🔵🔵⚪\n",
    "\n",
    "You should spend up to ~20 minutes on this exercise.\n",
    "\n",
    "Make sure you understand what operation is taking place here, and how the dimensions are changing."
   ]
  },
  {
   "cell_type": "code",
   "execution_count": 112,
   "metadata": {},
   "outputs": [
    {
     "name": "stdout",
     "output_type": "stream",
     "text": [
      "All tests in `test_conv2d_module` passed!\n",
      "Manually verify that this is an informative repr: Conv2d(in_channels=24, out_channels=12, kernel_size=3, stride=2, padding=1)\n"
     ]
    }
   ],
   "source": [
    "class Conv2d(nn.Module):\n",
    "    def __init__(\n",
    "        self, in_channels: int, out_channels: int, kernel_size: int, stride: int = 1, padding: int = 0\n",
    "    ):\n",
    "        '''\n",
    "        Same as torch.nn.Conv2d with bias=False.\n",
    "        Name your weight field `self.weight` for compatibility with the PyTorch version.\n",
    "        '''\n",
    "        super().__init__()\n",
    "        self.in_channels = in_channels\n",
    "        self.out_channels = out_channels\n",
    "        self.kernel_size = kernel_size\n",
    "        self.stride = stride\n",
    "        self.padding = padding\n",
    "        xavier =  1 / np.sqrt(in_channels * kernel_size ** 2)\n",
    "        self.weight = nn.Parameter(xavier * (2 * t.rand(out_channels, in_channels, kernel_size, kernel_size) - 1))\n",
    "\n",
    "    def forward(self, x: t.Tensor) -> t.Tensor:\n",
    "        '''Apply the functional conv2d, which you can import.'''\n",
    "        return t.nn.functional.conv2d(x, self.weight, stride=self.stride, padding=self.padding)\n",
    "\n",
    "    def extra_repr(self) -> str:\n",
    "        keys = [\"in_channels\", \"out_channels\", \"kernel_size\", \"stride\", \"padding\"]\n",
    "        return \", \".join([f\"{key}={getattr(self, key)}\" for key in keys])\n",
    "\n",
    "\n",
    "tests.test_conv2d_module(Conv2d)\n",
    "m = Conv2d(in_channels=24, out_channels=12, kernel_size=3, stride=2, padding=1)\n",
    "print(f\"Manually verify that this is an informative repr: {m}\")"
   ]
  },
  {
   "cell_type": "markdown",
   "metadata": {},
   "source": [
    "### Exercise - implement MaxPool2D"
   ]
  },
  {
   "cell_type": "markdown",
   "metadata": {},
   "source": [
    "Difficulty: 🔴🔴⚪⚪⚪\n",
    "Importance: 🔵🔵⚪⚪⚪\n",
    "\n",
    "You should spend up to ~10 minutes on this exercise."
   ]
  },
  {
   "cell_type": "code",
   "execution_count": 114,
   "metadata": {},
   "outputs": [
    {
     "name": "stdout",
     "output_type": "stream",
     "text": [
      "All tests in `test_maxpool2d_module` passed!\n",
      "Manually verify that this is an informative repr: MaxPool2d(kernel_size=3, stride=2, padding=1)\n"
     ]
    }
   ],
   "source": [
    "class MaxPool2d(nn.Module):\n",
    "    def __init__(self, kernel_size: int, stride: Optional[int] = None, padding: int = 1):\n",
    "        super().__init__()\n",
    "        self.kernel_size = kernel_size\n",
    "        self.stride = stride\n",
    "        self.padding = padding\n",
    "\n",
    "    def forward(self, x: t.Tensor) -> t.Tensor:\n",
    "        '''Call the functional version of max_pool2d.'''\n",
    "        return t.nn.functional.max_pool2d(x, self.kernel_size, self.stride, self.padding)\n",
    "\n",
    "    def extra_repr(self) -> str:\n",
    "        '''Add additional information to the string representation of this class.'''\n",
    "        return \", \".join([f\"{key}={getattr(self, key)}\" for key in ['kernel_size', 'stride', 'padding']])\n",
    "\n",
    "\n",
    "tests.test_maxpool2d_module(MaxPool2d)\n",
    "m = MaxPool2d(kernel_size=3, stride=2, padding=1)\n",
    "print(f\"Manually verify that this is an informative repr: {m}\")"
   ]
  },
  {
   "cell_type": "markdown",
   "metadata": {},
   "source": [
    "## ResNets"
   ]
  },
  {
   "cell_type": "markdown",
   "metadata": {},
   "source": [
    "### nn.Sequential"
   ]
  },
  {
   "cell_type": "markdown",
   "metadata": {},
   "source": [
    "- allows for stringing together of layers - output from one strings into the input of the next - using ordered dict"
   ]
  },
  {
   "cell_type": "code",
   "execution_count": null,
   "metadata": {},
   "outputs": [],
   "source": [
    "class Sequential(nn.Module):\n",
    "    _modules: Dict[str, nn.Module]\n",
    "\n",
    "    def __init__(self, *modules: nn.Module):\n",
    "        super().__init__()\n",
    "        for index, mod in enumerate(modules):\n",
    "            self._modules[str(index)] = mod\n",
    "\n",
    "    def __getitem__(self, index: int) -> nn.Module:\n",
    "        index %= len(self._modules) # deal with negative indices\n",
    "        return self._modules[str(index)]\n",
    "\n",
    "    def __setitem__(self, index: int, module: nn.Module) -> None:\n",
    "        index %= len(self._modules) # deal with negative indices\n",
    "        self._modules[str(index)] = module\n",
    "\n",
    "    def forward(self, x: t.Tensor) -> t.Tensor:\n",
    "        '''Chain each module together, with the output from one feeding into the next one.'''\n",
    "        for mod in self._modules.values():\n",
    "            x = mod(x)\n",
    "        return x"
   ]
  },
  {
   "cell_type": "markdown",
   "metadata": {},
   "source": [
    "### Exercise - implement BatchNorm2d"
   ]
  },
  {
   "cell_type": "markdown",
   "metadata": {},
   "source": [
    "- idea of doing batch norm during inference (prediction) is strange since you cant normalize a single point - use *buffer*\n",
    "- buffer - regular tensor - not included in module.parameters, module modifies it during forward"
   ]
  },
  {
   "cell_type": "markdown",
   "metadata": {},
   "source": [
    "Difficulty: 🔴🔴🔴🔴⚪\n",
    "Importance: 🔵🔵🔵🔵⚪\n",
    "\n",
    "You should spend up to 20-40 minutes on this exercise.\n",
    "\n",
    "This is the most challenging module you'll have implemented so far. Getting all the dimensions and operations right can be tricky."
   ]
  },
  {
   "cell_type": "code",
   "execution_count": 119,
   "metadata": {},
   "outputs": [
    {
     "name": "stdout",
     "output_type": "stream",
     "text": [
      "All tests in `test_batchnorm2d_module` passed!\n",
      "All tests in `test_batchnorm2d_forward` passed!\n",
      "All tests in `test_batchnorm2d_running_mean` passed!\n"
     ]
    }
   ],
   "source": [
    "class BatchNorm2d(nn.Module):\n",
    "    # The type hints below aren't functional, they're just for documentation\n",
    "    running_mean: Float[Tensor, \"num_features\"]\n",
    "    running_var: Float[Tensor, \"num_features\"]\n",
    "    num_batches_tracked: Int[Tensor, \"\"] # This is how we denote a scalar tensor\n",
    "\n",
    "    def __init__(self, num_features: int, eps=1e-05, momentum=0.1):\n",
    "        '''\n",
    "        Like nn.BatchNorm2d with track_running_stats=True and affine=True.\n",
    "\n",
    "        Name the learnable affine parameters `weight` and `bias` in that order.\n",
    "        '''\n",
    "        super().__init__()\n",
    "        self.num_features = num_features\n",
    "        self.eps= eps\n",
    "        self.momentum = momentum\n",
    "\n",
    "        self.weight = nn.Parameter(t.ones(num_features))       #shape num features - std dev\n",
    "        self.bias = nn.Parameter(t.zeros(num_features))                #shape num features - mean\n",
    "\n",
    "        self.register_buffer(\"running_mean\", t.zeros(num_features))\n",
    "        self.register_buffer(\"running_var\", t.ones(num_features))\n",
    "        self.register_buffer(\"num_batches_tracked\", t.tensor(0))\n",
    "\n",
    "        self.training = True\n",
    "\n",
    "    def forward(self, x: t.Tensor) -> t.Tensor:\n",
    "        '''\n",
    "        Normalize each channel.\n",
    "\n",
    "        Compute the variance using `torch.var(x, unbiased=False)`\n",
    "        Hint: you may also find it helpful to use the argument `keepdim`.\n",
    "\n",
    "        x: shape (batch, channels, height, width)\n",
    "        Return: shape (batch, channels, height, width)\n",
    "        '''\n",
    "        if self.training:\n",
    "            batch_var = t.var(x, dim=(0,2,3), unbiased=False, keepdim=True)\n",
    "            batch_mean = t.mean(x, dim=(0,2,3), keepdim=True)\n",
    "            self.running_mean = self.running_mean*(1- self.momentum) + batch_mean.squeeze() * self.momentum\n",
    "            self.running_var = self.running_var*(1 - self.momentum) + batch_var.squeeze() * self.momentum\n",
    "            self.num_batches_tracked += 1\n",
    "        else:\n",
    "            # so it can be broadcasted\n",
    "            batch_mean = einops.rearrange(self.running_mean, \"channels -> 1 channels 1 1\")\n",
    "            batch_var = einops.rearrange(self.running_var, 'channels -> 1 channels 1 1')\n",
    "\n",
    "        # rearrange for broadcasting\n",
    "        weight = einops.rearrange(self.weight, 'channels -> 1 channels 1 1')\n",
    "        bias = einops.rearrange(self.bias, 'channels -> 1 channels 1 1 ')\n",
    "\n",
    "\n",
    "        return ((x - batch_mean)/t.sqrt(batch_var + self.eps)) * weight + bias\n",
    "        \n",
    "\n",
    "    def extra_repr(self) -> str:\n",
    "        return ', '.join([f\"{key}={getattr(self, key)}\" for key in [\"num_features\", \"eps\", \"momentum\"]])\n",
    "\n",
    "\n",
    "tests.test_batchnorm2d_module(BatchNorm2d)\n",
    "tests.test_batchnorm2d_forward(BatchNorm2d)\n",
    "tests.test_batchnorm2d_running_mean(BatchNorm2d)"
   ]
  },
  {
   "cell_type": "markdown",
   "metadata": {},
   "source": [
    "### Exercise - implement AveragePool"
   ]
  },
  {
   "cell_type": "markdown",
   "metadata": {},
   "source": [
    "Difficulty: 🔴⚪⚪⚪⚪\n",
    "Importance: 🔵🔵⚪⚪⚪\n",
    "\n",
    "You should spend up to 5-10 minutes on this exercise."
   ]
  },
  {
   "cell_type": "code",
   "execution_count": 120,
   "metadata": {},
   "outputs": [],
   "source": [
    "class AveragePool(nn.Module):\n",
    "    def forward(self, x: t.Tensor) -> t.Tensor:\n",
    "        '''\n",
    "        x: shape (batch, channels, height, width)\n",
    "        Return: shape (batch, channels)\n",
    "        '''\n",
    "        return einops.reduce(x, 'b c h w -> b c', 'mean')"
   ]
  },
  {
   "cell_type": "code",
   "execution_count": null,
   "metadata": {},
   "outputs": [],
   "source": []
  }
 ],
 "metadata": {
  "kernelspec": {
   "display_name": "arena",
   "language": "python",
   "name": "python3"
  },
  "language_info": {
   "codemirror_mode": {
    "name": "ipython",
    "version": 3
   },
   "file_extension": ".py",
   "mimetype": "text/x-python",
   "name": "python",
   "nbconvert_exporter": "python",
   "pygments_lexer": "ipython3",
   "version": "3.11.7"
  }
 },
 "nbformat": 4,
 "nbformat_minor": 2
}
